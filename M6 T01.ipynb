{
 "cells": [
  {
   "cell_type": "markdown",
   "id": "a5b6c2f9",
   "metadata": {},
   "source": [
    "### Tasca M6 T01\n",
    "\n",
    "Exercicis per practicar amb regressions."
   ]
  },
  {
   "cell_type": "markdown",
   "id": "e983975e",
   "metadata": {},
   "source": [
    "### Guia de l'exercici\n",
    "\n",
    "#### - Exercici 1\n",
    "1 Carregar dades  \n",
    "2 Split de les dades Train/test  \n",
    "3 Primera exploració gràfica simple: correlació entre els atributs i MEDV  \n",
    "4 Resultat de les gràfiques  \n",
    "5 Matriu de correlació  \n",
    "6 Primeres regressions: RM vs MEDV (model1)  \n",
    "7 Càlcul del paràmetres de les regressions  \n",
    "8 Faig un segom model: LSTAT vs MEDV (model2)  \n",
    "#### - Exercici 2\n",
    "1 R^2 i MSE  \n",
    "2 MAE, RMSE i statsmodel  \n",
    "3 Model de regression amb RM i LSTAT vs MEDV (model3) fent servir statsmodel  \n",
    "4 Model de regressio lineal amb tots els atributs (model4) i calcul del R^2  \n",
    "#### - Exercici 3\n",
    "1 Ajusto el model4 fent servir GridSearchCV. 1er ajusto cv  \n",
    "2 Ajusto el model4 (regressio lineal)  \n",
    "3 Random Forest Regression (model5): generat i ajustat fent servir GridSearchCV  \n",
    "4 Gradient Boosting Regression (model6): generat i ajustat fent servir GridSearchCV  \n",
    "#### - Exercici 4\n",
    "1 Calculem les prediccions pels models 5 i 6  \n",
    "2 Representació gràfica (dispersió) dels models 5 i 6 entrenats i no entrenats  \n",
    "3 Distribució de la diferencia entre el valors reals i predits, models 5 i 6, entrenats i no entrenats  \n",
    "4 Creació de la taula Resultats RMSE de tots els models  \n",
    "5 Calcul RMSE de models 5 i 6, entrenats i no entrenats. **Dades:Train**  \n",
    "6 Calcul RMSE de models 5 i 6, entrenats i no entrenats. **Dades:Test**  \n",
    "7 Calcul RMSE de models 5 i 6, entrenats i no entrenats. **Dades:Totes**  \n",
    "#### - Exercici 5\n",
    "1 X i y, excloent-hi 'RM', split Train/test  \n",
    "2 Regressio Random Forest (model7)  \n",
    "3 Regressio Gradient Boosting (model8)  \n",
    "4 Calcul de totes les regressions\n",
    "    * model7 -> Random Forest (entrenat i no entrenat). **Dades:train**  \n",
    "    * model8 -> Gradient Boosting (entrenat i no entrenat). **Dades:train**  \n",
    "    * model9 -> Random Forest (entrenat i no entrenat). **Dades:test**  \n",
    "    * model10 -> Gradient Boosting (entrenat i no entrenat. **Dades:test**  \n",
    "    * model11 -> Random Forest (entrenat i no entrenat). **Dades:totes**  \n",
    "    * model12 -> Gradient Boosting (entrenat i no entrenat. **Dades:totes**  \n",
    "5 Afegim una columna als resultats amb els nous noms i afegim (RM-) per indicar que RM està exclosa  \n",
    "6 Calculem el RMSE pel models (RM-)  \n",
    "7 Resultas finals RMSE de tots els models comsiderats  \n",
    "8 Gràfiques comparatives entre el models amb RM i els (RM-)  "
   ]
  },
  {
   "cell_type": "markdown",
   "id": "3c83bb68",
   "metadata": {},
   "source": [
    "#### - Exercici 1\n",
    "\n",
    "Crea almenys dos models de regressió diferents per intentar predir el millor possible el preu de les vivendes (MEDV) de l'arxiu adjunt."
   ]
  },
  {
   "cell_type": "markdown",
   "id": "a28e5e9d",
   "metadata": {},
   "source": [
    "> 1 Carregar dades"
   ]
  },
  {
   "cell_type": "code",
   "execution_count": 1,
   "id": "7eb75a25",
   "metadata": {
    "scrolled": false
   },
   "outputs": [
    {
     "data": {
      "text/html": [
       "<div>\n",
       "<style scoped>\n",
       "    .dataframe tbody tr th:only-of-type {\n",
       "        vertical-align: middle;\n",
       "    }\n",
       "\n",
       "    .dataframe tbody tr th {\n",
       "        vertical-align: top;\n",
       "    }\n",
       "\n",
       "    .dataframe thead th {\n",
       "        text-align: right;\n",
       "    }\n",
       "</style>\n",
       "<table border=\"1\" class=\"dataframe\">\n",
       "  <thead>\n",
       "    <tr style=\"text-align: right;\">\n",
       "      <th></th>\n",
       "      <th>CRIM</th>\n",
       "      <th>ZN</th>\n",
       "      <th>INDUS</th>\n",
       "      <th>CHAS</th>\n",
       "      <th>NOX</th>\n",
       "      <th>RM</th>\n",
       "      <th>AGE</th>\n",
       "      <th>DIS</th>\n",
       "      <th>RAD</th>\n",
       "      <th>TAX</th>\n",
       "      <th>PTRATIO</th>\n",
       "      <th>B</th>\n",
       "      <th>LSTAT</th>\n",
       "      <th>MEDV</th>\n",
       "    </tr>\n",
       "  </thead>\n",
       "  <tbody>\n",
       "    <tr>\n",
       "      <th>0</th>\n",
       "      <td>0.00632</td>\n",
       "      <td>18.0</td>\n",
       "      <td>2.31</td>\n",
       "      <td>0</td>\n",
       "      <td>0.538</td>\n",
       "      <td>6.575</td>\n",
       "      <td>65.2</td>\n",
       "      <td>4.0900</td>\n",
       "      <td>1</td>\n",
       "      <td>296.0</td>\n",
       "      <td>15.3</td>\n",
       "      <td>396.9</td>\n",
       "      <td>4.98</td>\n",
       "      <td>24.0</td>\n",
       "    </tr>\n",
       "    <tr>\n",
       "      <th>1</th>\n",
       "      <td>0.02731</td>\n",
       "      <td>0.0</td>\n",
       "      <td>7.07</td>\n",
       "      <td>0</td>\n",
       "      <td>0.469</td>\n",
       "      <td>6.421</td>\n",
       "      <td>78.9</td>\n",
       "      <td>4.9671</td>\n",
       "      <td>2</td>\n",
       "      <td>242.0</td>\n",
       "      <td>17.8</td>\n",
       "      <td>396.9</td>\n",
       "      <td>9.14</td>\n",
       "      <td>21.6</td>\n",
       "    </tr>\n",
       "  </tbody>\n",
       "</table>\n",
       "</div>"
      ],
      "text/plain": [
       "      CRIM    ZN  INDUS  CHAS    NOX     RM   AGE     DIS  RAD    TAX  \\\n",
       "0  0.00632  18.0   2.31     0  0.538  6.575  65.2  4.0900    1  296.0   \n",
       "1  0.02731   0.0   7.07     0  0.469  6.421  78.9  4.9671    2  242.0   \n",
       "\n",
       "   PTRATIO      B  LSTAT  MEDV  \n",
       "0     15.3  396.9   4.98  24.0  \n",
       "1     17.8  396.9   9.14  21.6  "
      ]
     },
     "execution_count": 1,
     "metadata": {},
     "output_type": "execute_result"
    }
   ],
   "source": [
    "# Carreguem pandas, numpy i la base de dades\n",
    "\n",
    "import pandas as pd\n",
    "import numpy as np\n",
    "housing = pd.read_csv('housing data.csv', \n",
    "        names =('CRIM','ZN','INDUS','CHAS','NOX','RM','AGE','DIS','RAD','TAX','PTRATIO','B','LSTAT','MEDV'))\n",
    "housing.head(2)\n"
   ]
  },
  {
   "cell_type": "code",
   "execution_count": 2,
   "id": "154c943d",
   "metadata": {},
   "outputs": [
    {
     "data": {
      "text/plain": [
       "CRIM       float64\n",
       "ZN         float64\n",
       "INDUS      float64\n",
       "CHAS         int64\n",
       "NOX        float64\n",
       "RM         float64\n",
       "AGE        float64\n",
       "DIS        float64\n",
       "RAD          int64\n",
       "TAX        float64\n",
       "PTRATIO    float64\n",
       "B          float64\n",
       "LSTAT      float64\n",
       "MEDV       float64\n",
       "dtype: object"
      ]
     },
     "execution_count": 2,
     "metadata": {},
     "output_type": "execute_result"
    }
   ],
   "source": [
    "housing.dtypes"
   ]
  },
  {
   "cell_type": "markdown",
   "id": "fe862fa0",
   "metadata": {},
   "source": [
    "> 2 Split de les dades Train/test"
   ]
  },
  {
   "cell_type": "code",
   "execution_count": 3,
   "id": "1e832fb2",
   "metadata": {},
   "outputs": [],
   "source": [
    "# Fem el split entre Train (80%) i test (20%)\n",
    "from sklearn.model_selection import train_test_split\n",
    "\n",
    "housing_train, housing_test = train_test_split(housing, test_size=0.2, random_state=2)"
   ]
  },
  {
   "cell_type": "code",
   "execution_count": 4,
   "id": "274e4c1d",
   "metadata": {},
   "outputs": [
    {
     "data": {
      "text/html": [
       "<div>\n",
       "<style scoped>\n",
       "    .dataframe tbody tr th:only-of-type {\n",
       "        vertical-align: middle;\n",
       "    }\n",
       "\n",
       "    .dataframe tbody tr th {\n",
       "        vertical-align: top;\n",
       "    }\n",
       "\n",
       "    .dataframe thead th {\n",
       "        text-align: right;\n",
       "    }\n",
       "</style>\n",
       "<table border=\"1\" class=\"dataframe\">\n",
       "  <thead>\n",
       "    <tr style=\"text-align: right;\">\n",
       "      <th></th>\n",
       "      <th>CRIM</th>\n",
       "      <th>ZN</th>\n",
       "      <th>INDUS</th>\n",
       "      <th>CHAS</th>\n",
       "      <th>NOX</th>\n",
       "      <th>RM</th>\n",
       "      <th>AGE</th>\n",
       "      <th>DIS</th>\n",
       "      <th>RAD</th>\n",
       "      <th>TAX</th>\n",
       "      <th>PTRATIO</th>\n",
       "      <th>B</th>\n",
       "      <th>LSTAT</th>\n",
       "      <th>MEDV</th>\n",
       "    </tr>\n",
       "  </thead>\n",
       "  <tbody>\n",
       "    <tr>\n",
       "      <th>321</th>\n",
       "      <td>0.18159</td>\n",
       "      <td>0.0</td>\n",
       "      <td>7.38</td>\n",
       "      <td>0</td>\n",
       "      <td>0.493</td>\n",
       "      <td>6.376</td>\n",
       "      <td>54.3</td>\n",
       "      <td>4.5404</td>\n",
       "      <td>5</td>\n",
       "      <td>287.0</td>\n",
       "      <td>19.6</td>\n",
       "      <td>396.9</td>\n",
       "      <td>6.87</td>\n",
       "      <td>23.1</td>\n",
       "    </tr>\n",
       "    <tr>\n",
       "      <th>37</th>\n",
       "      <td>0.08014</td>\n",
       "      <td>0.0</td>\n",
       "      <td>5.96</td>\n",
       "      <td>0</td>\n",
       "      <td>0.499</td>\n",
       "      <td>5.850</td>\n",
       "      <td>41.5</td>\n",
       "      <td>3.9342</td>\n",
       "      <td>5</td>\n",
       "      <td>279.0</td>\n",
       "      <td>19.2</td>\n",
       "      <td>396.9</td>\n",
       "      <td>8.77</td>\n",
       "      <td>21.0</td>\n",
       "    </tr>\n",
       "  </tbody>\n",
       "</table>\n",
       "</div>"
      ],
      "text/plain": [
       "        CRIM   ZN  INDUS  CHAS    NOX     RM   AGE     DIS  RAD    TAX  \\\n",
       "321  0.18159  0.0   7.38     0  0.493  6.376  54.3  4.5404    5  287.0   \n",
       "37   0.08014  0.0   5.96     0  0.499  5.850  41.5  3.9342    5  279.0   \n",
       "\n",
       "     PTRATIO      B  LSTAT  MEDV  \n",
       "321     19.6  396.9   6.87  23.1  \n",
       "37      19.2  396.9   8.77  21.0  "
      ]
     },
     "execution_count": 4,
     "metadata": {},
     "output_type": "execute_result"
    }
   ],
   "source": [
    "housing_train.head(2)"
   ]
  },
  {
   "cell_type": "code",
   "execution_count": 5,
   "id": "97ab9ebf",
   "metadata": {},
   "outputs": [
    {
     "data": {
      "text/html": [
       "<div>\n",
       "<style scoped>\n",
       "    .dataframe tbody tr th:only-of-type {\n",
       "        vertical-align: middle;\n",
       "    }\n",
       "\n",
       "    .dataframe tbody tr th {\n",
       "        vertical-align: top;\n",
       "    }\n",
       "\n",
       "    .dataframe thead th {\n",
       "        text-align: right;\n",
       "    }\n",
       "</style>\n",
       "<table border=\"1\" class=\"dataframe\">\n",
       "  <thead>\n",
       "    <tr style=\"text-align: right;\">\n",
       "      <th></th>\n",
       "      <th>CRIM</th>\n",
       "      <th>ZN</th>\n",
       "      <th>INDUS</th>\n",
       "      <th>CHAS</th>\n",
       "      <th>NOX</th>\n",
       "      <th>RM</th>\n",
       "      <th>AGE</th>\n",
       "      <th>DIS</th>\n",
       "      <th>RAD</th>\n",
       "      <th>TAX</th>\n",
       "      <th>PTRATIO</th>\n",
       "      <th>B</th>\n",
       "      <th>LSTAT</th>\n",
       "      <th>MEDV</th>\n",
       "    </tr>\n",
       "  </thead>\n",
       "  <tbody>\n",
       "    <tr>\n",
       "      <th>463</th>\n",
       "      <td>5.82115</td>\n",
       "      <td>0.0</td>\n",
       "      <td>18.10</td>\n",
       "      <td>0</td>\n",
       "      <td>0.713</td>\n",
       "      <td>6.513</td>\n",
       "      <td>89.9</td>\n",
       "      <td>2.8016</td>\n",
       "      <td>24</td>\n",
       "      <td>666.0</td>\n",
       "      <td>20.2</td>\n",
       "      <td>393.82</td>\n",
       "      <td>10.29</td>\n",
       "      <td>20.2</td>\n",
       "    </tr>\n",
       "    <tr>\n",
       "      <th>152</th>\n",
       "      <td>1.12658</td>\n",
       "      <td>0.0</td>\n",
       "      <td>19.58</td>\n",
       "      <td>1</td>\n",
       "      <td>0.871</td>\n",
       "      <td>5.012</td>\n",
       "      <td>88.0</td>\n",
       "      <td>1.6102</td>\n",
       "      <td>5</td>\n",
       "      <td>403.0</td>\n",
       "      <td>14.7</td>\n",
       "      <td>343.28</td>\n",
       "      <td>12.12</td>\n",
       "      <td>15.3</td>\n",
       "    </tr>\n",
       "  </tbody>\n",
       "</table>\n",
       "</div>"
      ],
      "text/plain": [
       "        CRIM   ZN  INDUS  CHAS    NOX     RM   AGE     DIS  RAD    TAX  \\\n",
       "463  5.82115  0.0  18.10     0  0.713  6.513  89.9  2.8016   24  666.0   \n",
       "152  1.12658  0.0  19.58     1  0.871  5.012  88.0  1.6102    5  403.0   \n",
       "\n",
       "     PTRATIO       B  LSTAT  MEDV  \n",
       "463     20.2  393.82  10.29  20.2  \n",
       "152     14.7  343.28  12.12  15.3  "
      ]
     },
     "execution_count": 5,
     "metadata": {},
     "output_type": "execute_result"
    }
   ],
   "source": [
    "housing_test.head(2)"
   ]
  },
  {
   "cell_type": "markdown",
   "id": "e79b8320",
   "metadata": {},
   "source": [
    "> 3 Primera exploració gràfica simple: correlació entre els atributs i MEDV"
   ]
  },
  {
   "cell_type": "code",
   "execution_count": 6,
   "id": "7ae10687",
   "metadata": {
    "scrolled": false
   },
   "outputs": [
    {
     "data": {
      "image/png": "[encoded data removed]",
      "text/plain": [
       "<Figure size 1440x1080 with 11 Axes>"
      ]
     },
     "metadata": {
      "needs_background": "light"
     },
     "output_type": "display_data"
    }
   ],
   "source": [
    "# Fem unes gràfiques per veure la relació entre els diferents atributs i el valor de la vivenda (MEDV)\n",
    "# He ajustat l'ordre de la regressió per veure quin tipus s'ajusta raonablement a la dispersió de punts.\n",
    "# He limitat l'ajust al ordre més petit raonable, per tal d'evitar l'overfitting\n",
    "\n",
    "import matplotlib.pyplot as plt\n",
    "import seaborn as sns\n",
    "\n",
    "plt.figure(figsize=(20,15))\n",
    "plt.subplots_adjust(left=None, bottom=None, right=None, top=None, wspace=.25, hspace=.35)\n",
    "\n",
    "plt.subplot(3,4,1)\n",
    "sns.regplot(y = housing_train['MEDV'],x = housing_train['CRIM'], data = housing_train, scatter_kws={'s':2},ci = None, order=4)\n",
    "plt.subplot(3,4,2)\n",
    "sns.regplot(y = housing_train['MEDV'],x = housing_train['ZN'], data = housing_train, scatter_kws={'s':2},ci = None, order=1)\n",
    "plt.subplot(3,4,3)\n",
    "sns.regplot(y = housing_train['MEDV'],x = housing_train['INDUS'], data = housing_train, scatter_kws={'s':2},ci = None, order=1)\n",
    "plt.subplot(3,4,4)\n",
    "sns.regplot(y = housing_train['MEDV'],x = housing_train['NOX'], data = housing_train, scatter_kws={'s':2},ci = None, order=1)\n",
    "plt.subplot(3,4,5)\n",
    "sns.regplot(y = housing_train['MEDV'],x = housing_train['RM'], data = housing_train, scatter_kws={'s':2},ci = None, order=1)\n",
    "plt.subplot(3,4,6)\n",
    "sns.regplot(y = housing_train['MEDV'],x = housing_train['AGE'], data = housing_train, scatter_kws={'s':2},ci = None, order=1)\n",
    "plt.subplot(3,4,7)\n",
    "sns.regplot(y = housing_train['MEDV'],x = housing_train['DIS'], data = housing_train, scatter_kws={'s':2},ci = None, order=1)\n",
    "plt.subplot(3,4,8)\n",
    "sns.regplot(y = housing_train['MEDV'],x = housing_train['TAX'], data = housing_train, scatter_kws={'s':2},ci = None, order=1)\n",
    "plt.subplot(3,4,9)\n",
    "sns.regplot(y = housing_train['MEDV'],x = housing_train['PTRATIO'], data = housing_train, scatter_kws={'s':2},ci = None, order=1)\n",
    "plt.subplot(3,4,10)\n",
    "sns.regplot(y = housing_train['MEDV'],x = housing_train['B'], data = housing_train, scatter_kws={'s':2},ci = None, order=1)\n",
    "plt.subplot(3,4,11)\n",
    "sns.regplot(y = housing_train['MEDV'],x = housing_train['LSTAT'], data = housing_train, scatter_kws={'s':2},ci = None, order=2);"
   ]
  },
  {
   "cell_type": "markdown",
   "id": "0e8fa57d",
   "metadata": {},
   "source": [
    "> 4 Resultat de les gràfiques\n",
    "\n",
    "* El nombre d'habitacións (**RM**) es un bon candidat per la regressió lineal\n",
    "* El percentatge de població en status inferiors (**LSTAT**) sembla un bon candidate per una regressió d'ordre 2\n",
    "* El crim per capita (**CRIM**) podría ser un bon candidat per una regressió, però 'ordre mínim que sembla raonable es de 4, amb un posible risk de overfitting.\n",
    "\n",
    "* La resta d'atributs sembla mostrar una correlació molt pobre amb el preu de la vivenda."
   ]
  },
  {
   "cell_type": "markdown",
   "id": "5533cdce",
   "metadata": {},
   "source": [
    "> 5 Matriu de correlació"
   ]
  },
  {
   "cell_type": "code",
   "execution_count": 7,
   "id": "d7379237",
   "metadata": {},
   "outputs": [
    {
     "data": {
      "image/png": "[encoded data removed]",
      "text/plain": [
       "<Figure size 432x288 with 2 Axes>"
      ]
     },
     "metadata": {
      "needs_background": "light"
     },
     "output_type": "display_data"
    }
   ],
   "source": [
    "# Faig una matriu de correlació. Per simplificar les dades ho faig en valor absolut \n",
    "# i ho multiplico per (-1) per que les millors correlacions surtin mes fosques\n",
    "sns.heatmap(np.absolute(housing.corr())*(-1));"
   ]
  },
  {
   "cell_type": "markdown",
   "id": "ada888c1",
   "metadata": {},
   "source": [
    "> 6 primeres regressions: RM vs MEDV (model1) \n",
    "#### Dos models de regressió:\n",
    "\n",
    "Farem un model de regressió lineal fent servir RM"
   ]
  },
  {
   "cell_type": "code",
   "execution_count": 8,
   "id": "77ccc065",
   "metadata": {},
   "outputs": [
    {
     "data": {
      "text/plain": [
       "LinearRegression()"
      ]
     },
     "execution_count": 8,
     "metadata": {},
     "output_type": "execute_result"
    }
   ],
   "source": [
    "from sklearn.linear_model import LinearRegression\n",
    "from sklearn.preprocessing import PolynomialFeatures\n",
    "\n",
    "# Generem les tres arrays que es faran servir pel models de regressió. L'array y serà la mateixa pels dos.\n",
    "y_train, X1_train, X2_train = np.array(housing_train['MEDV']), np.array(housing_train['RM']).reshape(-1,1), np.array(housing_train['LSTAT']).reshape(-1,1)\n",
    "\n",
    "# model 1: regressió lineal MEDV vs RM\n",
    "model1 = LinearRegression()\n",
    "model1.fit(X1_train, y_train)"
   ]
  },
  {
   "cell_type": "markdown",
   "id": "4189aeb4",
   "metadata": {},
   "source": [
    "> 7 Calcul del paràmetres de les regressions"
   ]
  },
  {
   "cell_type": "code",
   "execution_count": 9,
   "id": "b8a41a18",
   "metadata": {
    "scrolled": true
   },
   "outputs": [
    {
     "name": "stdout",
     "output_type": "stream",
     "text": [
      "coeficient de determinació: 0.445\n",
      "ordenada a l'origen (intercept): -32.552\n",
      "pendent: [8.74934434]\n"
     ]
    }
   ],
   "source": [
    "r_sq1 = model1.score(X1_train, y_train)\n",
    "print(f\"coeficient de determinació: {r_sq1:.3f}\")\n",
    "print(f\"ordenada a l'origen (intercept): {model1.intercept_:.3f}\")\n",
    "print(f\"pendent: {model1.coef_}\")"
   ]
  },
  {
   "cell_type": "markdown",
   "id": "e82f650c",
   "metadata": {},
   "source": [
    "### De les notes de la web RealPython\n",
    "#### A complete model, using multiple polynomial regression\n",
    "* Step 1: Import packages and classes\n",
    "* Step 2a: Provide data. X is \"vertical\", while y is \"horizontal\". You can reshape x using  .reshape(-1,1)\n",
    "* Step 2b: Transform input data. \n",
    "    In scikit-learn, by convention, a trailing underscore (name_) indicates that an attribute is estimated.\n",
    "* Step 3: Create a model and fit it\n",
    "* Step 4: Get results\n",
    "* Step 5: Predict response\n"
   ]
  },
  {
   "cell_type": "markdown",
   "id": "6294a867",
   "metadata": {},
   "source": [
    "> 8 Faig un segom model: LSTAT vs MEDV (model2)"
   ]
  },
  {
   "cell_type": "code",
   "execution_count": 10,
   "id": "f75cf7af",
   "metadata": {},
   "outputs": [],
   "source": [
    "# model 2: regressio polinómica MEDV vs LSTAT\n",
    "\n",
    "# Hem de crear la variable transformacio2\n",
    "transf2 = PolynomialFeatures(degree=2, include_bias=False)\n",
    "\n",
    "# L'ajustem amb .fit()\n",
    "transf2.fit(X2_train)\n",
    "\n",
    "# Ara està llesta per crear una variable d'input modificada. Apliquem: .transform() to do that:\n",
    "X2_train_ = transf2.transform(X2_train)\n",
    "\n",
    "model2 = LinearRegression().fit(X2_train_, y_train)"
   ]
  },
  {
   "cell_type": "code",
   "execution_count": 11,
   "id": "52b897a0",
   "metadata": {},
   "outputs": [
    {
     "name": "stdout",
     "output_type": "stream",
     "text": [
      "coeficient de determinació: 0.620\n",
      "ordenada a l'origen (intercept): 42.802\n",
      "coeficients: [-2.32454593  0.04365197]\n"
     ]
    }
   ],
   "source": [
    "r_sq2 = model2.score(X2_train_, y_train)\n",
    "print(f\"coeficient de determinació: {r_sq2:.3f}\")\n",
    "print(f\"ordenada a l'origen (intercept): {model2.intercept_:.3f}\")\n",
    "print(f\"coeficients: {model2.coef_}\")"
   ]
  },
  {
   "cell_type": "markdown",
   "id": "64aeb00d",
   "metadata": {},
   "source": [
    "#### - Exercici 2\n",
    "\n",
    "Compara’ls en base al MSE i al R2."
   ]
  },
  {
   "cell_type": "markdown",
   "id": "5f70916e",
   "metadata": {},
   "source": [
    "> 1 R^2 i MSE"
   ]
  },
  {
   "cell_type": "code",
   "execution_count": 12,
   "id": "76d6566c",
   "metadata": {},
   "outputs": [
    {
     "name": "stdout",
     "output_type": "stream",
     "text": [
      "coeficient de determinació model 1(RM): 0.445\n",
      "coeficient de determinació model 2(LSTAT): 0.620\n"
     ]
    }
   ],
   "source": [
    "# Comparem els models en base a R^2\n",
    "print(f\"coeficient de determinació model 1(RM): {r_sq1:.3f}\")\n",
    "print(f\"coeficient de determinació model 2(LSTAT): {r_sq2:.3f}\")\n"
   ]
  },
  {
   "cell_type": "code",
   "execution_count": 13,
   "id": "23a2e276",
   "metadata": {},
   "outputs": [],
   "source": [
    "# Per calcular el MSE hem de calcular els valors pronosticats (predicted)\n",
    "\n",
    "# model 1: regressió lineal fent servir RM\n",
    "y1_pred = model1.predict(X1_train)\n",
    "\n",
    "# model 2: regressió polinómica fent servir LSTAT\n",
    "y2_pred = model2.predict(X2_train_)"
   ]
  },
  {
   "cell_type": "code",
   "execution_count": 14,
   "id": "1d1e365c",
   "metadata": {},
   "outputs": [
    {
     "name": "stdout",
     "output_type": "stream",
     "text": [
      " El MSE pel model 1 es: 46.957\n",
      " El MSE pel model 2 es: 32.106\n"
     ]
    }
   ],
   "source": [
    "# Calculem el MSE\n",
    "from sklearn.metrics import mean_squared_error\n",
    "import math\n",
    "print(f' El MSE pel model 1 es: {mean_squared_error(y_train, y1_pred):.3f}')\n",
    "print(f' El MSE pel model 2 es: {mean_squared_error(y_train, y2_pred):.3f}')"
   ]
  },
  {
   "cell_type": "markdown",
   "id": "6337db45",
   "metadata": {},
   "source": [
    ">2 MAE, RMSE i statsmodel"
   ]
  },
  {
   "cell_type": "markdown",
   "id": "fd5fe475",
   "metadata": {},
   "source": [
    "#### MAE, RMSE i statsmodel\n",
    "Encara que no es demana a l'exercic ho poso aquí per que a mi em serveix de referència"
   ]
  },
  {
   "cell_type": "code",
   "execution_count": 15,
   "id": "cfc0e6c9",
   "metadata": {},
   "outputs": [
    {
     "name": "stdout",
     "output_type": "stream",
     "text": [
      "El MAE pel model 1 es: 4.563\n",
      "El MAE pel model 2 es: 4.130\n"
     ]
    }
   ],
   "source": [
    "# Calculem el MAE\n",
    "from sklearn.metrics import mean_absolute_error\n",
    "\n",
    "# I els imprimim un a sobre de l'altre\n",
    "print(f'El MAE pel model 1 es: {mean_absolute_error(y_train, y1_pred):.3f}')\n",
    "print(f'El MAE pel model 2 es: {mean_absolute_error(y_train, y2_pred):.3f}')"
   ]
  },
  {
   "cell_type": "code",
   "execution_count": 16,
   "id": "bc7fef3f",
   "metadata": {},
   "outputs": [
    {
     "name": "stdout",
     "output_type": "stream",
     "text": [
      " El RMSE pel model 1 es: 6.853\n",
      " El RMSE pel model 2 es: 5.666\n"
     ]
    }
   ],
   "source": [
    "# Ara mostrem el RMSE\n",
    "\n",
    "from sklearn.metrics import mean_squared_error\n",
    "import math\n",
    "\n",
    "print(f' El RMSE pel model 1 es: {math.sqrt(mean_squared_error(y_train, y1_pred)):.3f}')\n",
    "print(f' El RMSE pel model 2 es: {math.sqrt(mean_squared_error(y_train, y2_pred)):.3f}')"
   ]
  },
  {
   "cell_type": "code",
   "execution_count": 17,
   "id": "d790764f",
   "metadata": {},
   "outputs": [
    {
     "name": "stdout",
     "output_type": "stream",
     "text": [
      "Resultats amb statsmodel per la primera regressió (LM)\n",
      "                            OLS Regression Results                            \n",
      "==============================================================================\n",
      "Dep. Variable:                      y   R-squared:                       0.445\n",
      "Model:                            OLS   Adj. R-squared:                  0.443\n",
      "Method:                 Least Squares   F-statistic:                     322.0\n",
      "Date:                Fri, 14 Oct 2022   Prob (F-statistic):           2.61e-53\n",
      "Time:                        08:07:29   Log-Likelihood:                -1350.8\n",
      "No. Observations:                 404   AIC:                             2706.\n",
      "Df Residuals:                     402   BIC:                             2714.\n",
      "Df Model:                           1                                         \n",
      "Covariance Type:            nonrobust                                         \n",
      "==============================================================================\n",
      "                 coef    std err          t      P>|t|      [0.025      0.975]\n",
      "------------------------------------------------------------------------------\n",
      "const        -32.5516      3.084    -10.556      0.000     -38.614     -26.490\n",
      "x1             8.7493      0.488     17.944      0.000       7.791       9.708\n",
      "==============================================================================\n",
      "Omnibus:                       91.965   Durbin-Watson:                   2.035\n",
      "Prob(Omnibus):                  0.000   Jarque-Bera (JB):              496.748\n",
      "Skew:                           0.843   Prob(JB):                    1.36e-108\n",
      "Kurtosis:                       8.164   Cond. No.                         58.5\n",
      "==============================================================================\n",
      "\n",
      "Notes:\n",
      "[1] Standard Errors assume that the covariance matrix of the errors is correctly specified.\n",
      "--------\n",
      "Resultats amb statsmodel per la segona regressió (LSTAT)\n",
      "                            OLS Regression Results                            \n",
      "==============================================================================\n",
      "Dep. Variable:                      y   R-squared:                       0.620\n",
      "Model:                            OLS   Adj. R-squared:                  0.618\n",
      "Method:                 Least Squares   F-statistic:                     327.6\n",
      "Date:                Fri, 14 Oct 2022   Prob (F-statistic):           4.60e-85\n",
      "Time:                        08:07:29   Log-Likelihood:                -1274.0\n",
      "No. Observations:                 404   AIC:                             2554.\n",
      "Df Residuals:                     401   BIC:                             2566.\n",
      "Df Model:                           2                                         \n",
      "Covariance Type:            nonrobust                                         \n",
      "==============================================================================\n",
      "                 coef    std err          t      P>|t|      [0.025      0.975]\n",
      "------------------------------------------------------------------------------\n",
      "const         42.8017      1.023     41.829      0.000      40.790      44.813\n",
      "x1            -2.3245      0.145    -15.981      0.000      -2.611      -2.039\n",
      "x2             0.0437      0.004      9.813      0.000       0.035       0.052\n",
      "==============================================================================\n",
      "Omnibus:                       95.374   Durbin-Watson:                   1.880\n",
      "Prob(Omnibus):                  0.000   Jarque-Bera (JB):              210.105\n",
      "Skew:                           1.212   Prob(JB):                     2.38e-46\n",
      "Kurtosis:                       5.570   Cond. No.                     1.14e+03\n",
      "==============================================================================\n",
      "\n",
      "Notes:\n",
      "[1] Standard Errors assume that the covariance matrix of the errors is correctly specified.\n",
      "[2] The condition number is large, 1.14e+03. This might indicate that there are\n",
      "strong multicollinearity or other numerical problems.\n"
     ]
    }
   ],
   "source": [
    "# el mateix fent servir statsmodel pels models 1 i 2\n",
    "import statsmodels.api as sm\n",
    "\n",
    "print('Resultats amb statsmodel per la primera regressió (LM)')\n",
    "X1_train = sm.add_constant(X1_train)\n",
    "\n",
    "model1b = sm.OLS(y_train, X1_train)\n",
    "results = model1b.fit()\n",
    "print(results.summary())\n",
    "print('--------')\n",
    "print('Resultats amb statsmodel per la segona regressió (LSTAT)')\n",
    "X2_train_ = sm.add_constant(X2_train_)\n",
    "\n",
    "model2b = sm.OLS(y_train, X2_train_)\n",
    "results = model2b.fit()\n",
    "print(results.summary())"
   ]
  },
  {
   "cell_type": "markdown",
   "id": "45e1dac8",
   "metadata": {},
   "source": [
    ">3 model de regression amb RM i LSTAT vs MEDV (model3) fent servir statsmodel"
   ]
  },
  {
   "cell_type": "markdown",
   "id": "336a7696",
   "metadata": {},
   "source": [
    " #### Fem un 3er model combinant les variables RM i LSTAT. Aquest model augmenta moltíssim la R^2"
   ]
  },
  {
   "cell_type": "code",
   "execution_count": 18,
   "id": "b26a082b",
   "metadata": {
    "scrolled": true
   },
   "outputs": [
    {
     "data": {
      "text/html": [
       "<table class=\"simpletable\">\n",
       "<caption>OLS Regression Results</caption>\n",
       "<tr>\n",
       "  <th>Dep. Variable:</th>            <td>y</td>        <th>  R-squared (uncentered):</th>      <td>   0.945</td> \n",
       "</tr>\n",
       "<tr>\n",
       "  <th>Model:</th>                   <td>OLS</td>       <th>  Adj. R-squared (uncentered):</th> <td>   0.945</td> \n",
       "</tr>\n",
       "<tr>\n",
       "  <th>Method:</th>             <td>Least Squares</td>  <th>  F-statistic:       </th>          <td>   3460.</td> \n",
       "</tr>\n",
       "<tr>\n",
       "  <th>Date:</th>             <td>Fri, 14 Oct 2022</td> <th>  Prob (F-statistic):</th>          <td>4.62e-254</td>\n",
       "</tr>\n",
       "<tr>\n",
       "  <th>Time:</th>                 <td>08:07:29</td>     <th>  Log-Likelihood:    </th>          <td> -1275.2</td> \n",
       "</tr>\n",
       "<tr>\n",
       "  <th>No. Observations:</th>      <td>   404</td>      <th>  AIC:               </th>          <td>   2554.</td> \n",
       "</tr>\n",
       "<tr>\n",
       "  <th>Df Residuals:</th>          <td>   402</td>      <th>  BIC:               </th>          <td>   2562.</td> \n",
       "</tr>\n",
       "<tr>\n",
       "  <th>Df Model:</th>              <td>     2</td>      <th>                     </th>              <td> </td>    \n",
       "</tr>\n",
       "<tr>\n",
       "  <th>Covariance Type:</th>      <td>nonrobust</td>    <th>                     </th>              <td> </td>    \n",
       "</tr>\n",
       "</table>\n",
       "<table class=\"simpletable\">\n",
       "<tr>\n",
       "    <td></td>       <th>coef</th>     <th>std err</th>      <th>t</th>      <th>P>|t|</th>  <th>[0.025</th>    <th>0.975]</th>  \n",
       "</tr>\n",
       "<tr>\n",
       "  <th>RM</th>    <td>    4.9165</td> <td>    0.082</td> <td>   59.698</td> <td> 0.000</td> <td>    4.755</td> <td>    5.078</td>\n",
       "</tr>\n",
       "<tr>\n",
       "  <th>LSTAT</th> <td>   -0.6653</td> <td>    0.036</td> <td>  -18.562</td> <td> 0.000</td> <td>   -0.736</td> <td>   -0.595</td>\n",
       "</tr>\n",
       "</table>\n",
       "<table class=\"simpletable\">\n",
       "<tr>\n",
       "  <th>Omnibus:</th>       <td>122.508</td> <th>  Durbin-Watson:     </th> <td>   1.991</td>\n",
       "</tr>\n",
       "<tr>\n",
       "  <th>Prob(Omnibus):</th> <td> 0.000</td>  <th>  Jarque-Bera (JB):  </th> <td> 384.796</td>\n",
       "</tr>\n",
       "<tr>\n",
       "  <th>Skew:</th>          <td> 1.385</td>  <th>  Prob(JB):          </th> <td>2.77e-84</td>\n",
       "</tr>\n",
       "<tr>\n",
       "  <th>Kurtosis:</th>      <td> 6.897</td>  <th>  Cond. No.          </th> <td>    4.81</td>\n",
       "</tr>\n",
       "</table><br/><br/>Notes:<br/>[1] R² is computed without centering (uncentered) since the model does not contain a constant.<br/>[2] Standard Errors assume that the covariance matrix of the errors is correctly specified."
      ],
      "text/plain": [
       "<class 'statsmodels.iolib.summary.Summary'>\n",
       "\"\"\"\n",
       "                                 OLS Regression Results                                \n",
       "=======================================================================================\n",
       "Dep. Variable:                      y   R-squared (uncentered):                   0.945\n",
       "Model:                            OLS   Adj. R-squared (uncentered):              0.945\n",
       "Method:                 Least Squares   F-statistic:                              3460.\n",
       "Date:                Fri, 14 Oct 2022   Prob (F-statistic):                   4.62e-254\n",
       "Time:                        08:07:29   Log-Likelihood:                         -1275.2\n",
       "No. Observations:                 404   AIC:                                      2554.\n",
       "Df Residuals:                     402   BIC:                                      2562.\n",
       "Df Model:                           2                                                  \n",
       "Covariance Type:            nonrobust                                                  \n",
       "==============================================================================\n",
       "                 coef    std err          t      P>|t|      [0.025      0.975]\n",
       "------------------------------------------------------------------------------\n",
       "RM             4.9165      0.082     59.698      0.000       4.755       5.078\n",
       "LSTAT         -0.6653      0.036    -18.562      0.000      -0.736      -0.595\n",
       "==============================================================================\n",
       "Omnibus:                      122.508   Durbin-Watson:                   1.991\n",
       "Prob(Omnibus):                  0.000   Jarque-Bera (JB):              384.796\n",
       "Skew:                           1.385   Prob(JB):                     2.77e-84\n",
       "Kurtosis:                       6.897   Cond. No.                         4.81\n",
       "==============================================================================\n",
       "\n",
       "Notes:\n",
       "[1] R² is computed without centering (uncentered) since the model does not contain a constant.\n",
       "[2] Standard Errors assume that the covariance matrix of the errors is correctly specified.\n",
       "\"\"\""
      ]
     },
     "execution_count": 18,
     "metadata": {},
     "output_type": "execute_result"
    }
   ],
   "source": [
    "# Agafem les variables RM i LSTAT del train set\n",
    "X3_train = housing_train[['RM', 'LSTAT']]\n",
    "\n",
    "# Fem el model\n",
    "model3 = sm.OLS(y_train, X3_train).fit() # idèntic al de dalt però en una sola línia\n",
    "predictions = model3.predict(X3_train)\n",
    "model3.summary()"
   ]
  },
  {
   "cell_type": "markdown",
   "id": "5201c979",
   "metadata": {},
   "source": [
    "#### Ara fem un Linear regression amb totes les dades\n",
    "model 4"
   ]
  },
  {
   "cell_type": "markdown",
   "id": "5039b064",
   "metadata": {},
   "source": [
    ">4 model de regressio lineal amb tos els atributs i calcul del R^2"
   ]
  },
  {
   "cell_type": "code",
   "execution_count": 19,
   "id": "dddf8bde",
   "metadata": {},
   "outputs": [],
   "source": [
    "#Definim les 'X' i la 'y'\n",
    "X4 = housing[['CRIM','ZN','INDUS','NOX','RM','AGE','DIS','RAD','TAX','PTRATIO','B','LSTAT']]\n",
    "\n",
    "y4 = housing['MEDV']"
   ]
  },
  {
   "cell_type": "code",
   "execution_count": 20,
   "id": "97b245e5",
   "metadata": {},
   "outputs": [
    {
     "data": {
      "text/html": [
       "<div>\n",
       "<style scoped>\n",
       "    .dataframe tbody tr th:only-of-type {\n",
       "        vertical-align: middle;\n",
       "    }\n",
       "\n",
       "    .dataframe tbody tr th {\n",
       "        vertical-align: top;\n",
       "    }\n",
       "\n",
       "    .dataframe thead th {\n",
       "        text-align: right;\n",
       "    }\n",
       "</style>\n",
       "<table border=\"1\" class=\"dataframe\">\n",
       "  <thead>\n",
       "    <tr style=\"text-align: right;\">\n",
       "      <th></th>\n",
       "      <th>CRIM</th>\n",
       "      <th>ZN</th>\n",
       "      <th>INDUS</th>\n",
       "      <th>NOX</th>\n",
       "      <th>RM</th>\n",
       "      <th>AGE</th>\n",
       "      <th>DIS</th>\n",
       "      <th>RAD</th>\n",
       "      <th>TAX</th>\n",
       "      <th>PTRATIO</th>\n",
       "      <th>B</th>\n",
       "      <th>LSTAT</th>\n",
       "    </tr>\n",
       "  </thead>\n",
       "  <tbody>\n",
       "    <tr>\n",
       "      <th>0</th>\n",
       "      <td>0.00632</td>\n",
       "      <td>18.0</td>\n",
       "      <td>2.31</td>\n",
       "      <td>0.538</td>\n",
       "      <td>6.575</td>\n",
       "      <td>65.2</td>\n",
       "      <td>4.0900</td>\n",
       "      <td>1</td>\n",
       "      <td>296.0</td>\n",
       "      <td>15.3</td>\n",
       "      <td>396.9</td>\n",
       "      <td>4.98</td>\n",
       "    </tr>\n",
       "    <tr>\n",
       "      <th>1</th>\n",
       "      <td>0.02731</td>\n",
       "      <td>0.0</td>\n",
       "      <td>7.07</td>\n",
       "      <td>0.469</td>\n",
       "      <td>6.421</td>\n",
       "      <td>78.9</td>\n",
       "      <td>4.9671</td>\n",
       "      <td>2</td>\n",
       "      <td>242.0</td>\n",
       "      <td>17.8</td>\n",
       "      <td>396.9</td>\n",
       "      <td>9.14</td>\n",
       "    </tr>\n",
       "  </tbody>\n",
       "</table>\n",
       "</div>"
      ],
      "text/plain": [
       "      CRIM    ZN  INDUS    NOX     RM   AGE     DIS  RAD    TAX  PTRATIO  \\\n",
       "0  0.00632  18.0   2.31  0.538  6.575  65.2  4.0900    1  296.0     15.3   \n",
       "1  0.02731   0.0   7.07  0.469  6.421  78.9  4.9671    2  242.0     17.8   \n",
       "\n",
       "       B  LSTAT  \n",
       "0  396.9   4.98  \n",
       "1  396.9   9.14  "
      ]
     },
     "execution_count": 20,
     "metadata": {},
     "output_type": "execute_result"
    }
   ],
   "source": [
    "X4.head(2)"
   ]
  },
  {
   "cell_type": "code",
   "execution_count": 21,
   "id": "e099e33d",
   "metadata": {},
   "outputs": [],
   "source": [
    "from sklearn.model_selection import train_test_split\n",
    "\n",
    "X4_train, X4_test, y4_train, y4_test = train_test_split(X4, y4, test_size=0.3, random_state=42)"
   ]
  },
  {
   "cell_type": "code",
   "execution_count": 22,
   "id": "34240fb2",
   "metadata": {},
   "outputs": [
    {
     "data": {
      "text/plain": [
       "LinearRegression()"
      ]
     },
     "execution_count": 22,
     "metadata": {},
     "output_type": "execute_result"
    }
   ],
   "source": [
    "from sklearn.linear_model import LinearRegression\n",
    "\n",
    "#Fem el model i el fit\n",
    "model4 = LinearRegression()\n",
    "model4.fit(X4_train, y4_train)"
   ]
  },
  {
   "cell_type": "code",
   "execution_count": 23,
   "id": "b7a2520f",
   "metadata": {},
   "outputs": [
    {
     "data": {
      "text/html": [
       "<div>\n",
       "<style scoped>\n",
       "    .dataframe tbody tr th:only-of-type {\n",
       "        vertical-align: middle;\n",
       "    }\n",
       "\n",
       "    .dataframe tbody tr th {\n",
       "        vertical-align: top;\n",
       "    }\n",
       "\n",
       "    .dataframe thead th {\n",
       "        text-align: right;\n",
       "    }\n",
       "</style>\n",
       "<table border=\"1\" class=\"dataframe\">\n",
       "  <thead>\n",
       "    <tr style=\"text-align: right;\">\n",
       "      <th></th>\n",
       "      <th>CRIM</th>\n",
       "      <th>ZN</th>\n",
       "      <th>INDUS</th>\n",
       "      <th>NOX</th>\n",
       "      <th>RM</th>\n",
       "      <th>AGE</th>\n",
       "      <th>DIS</th>\n",
       "      <th>RAD</th>\n",
       "      <th>TAX</th>\n",
       "      <th>PTRATIO</th>\n",
       "      <th>B</th>\n",
       "      <th>LSTAT</th>\n",
       "    </tr>\n",
       "  </thead>\n",
       "  <tbody>\n",
       "    <tr>\n",
       "      <th>Coef</th>\n",
       "      <td>-0.142477</td>\n",
       "      <td>0.038457</td>\n",
       "      <td>0.072763</td>\n",
       "      <td>-14.900799</td>\n",
       "      <td>4.146484</td>\n",
       "      <td>-0.009016</td>\n",
       "      <td>-1.418123</td>\n",
       "      <td>0.277012</td>\n",
       "      <td>-0.010257</td>\n",
       "      <td>-0.936738</td>\n",
       "      <td>0.01274</td>\n",
       "      <td>-0.566143</td>\n",
       "    </tr>\n",
       "  </tbody>\n",
       "</table>\n",
       "</div>"
      ],
      "text/plain": [
       "          CRIM        ZN     INDUS        NOX        RM       AGE       DIS  \\\n",
       "Coef -0.142477  0.038457  0.072763 -14.900799  4.146484 -0.009016 -1.418123   \n",
       "\n",
       "           RAD       TAX   PTRATIO        B     LSTAT  \n",
       "Coef  0.277012 -0.010257 -0.936738  0.01274 -0.566143  "
      ]
     },
     "execution_count": 23,
     "metadata": {},
     "output_type": "execute_result"
    }
   ],
   "source": [
    "# Veiem els coeficients per cada variable\n",
    "coeff_model4 = pd.DataFrame(model4.coef_, X4.columns, columns=['Coef'])\n",
    "coeff_model4.transpose()"
   ]
  },
  {
   "cell_type": "code",
   "execution_count": 24,
   "id": "a9b1a18c",
   "metadata": {},
   "outputs": [
    {
     "name": "stdout",
     "output_type": "stream",
     "text": [
      "Coeficient de determinació R^2 model 4: 0.737\n"
     ]
    }
   ],
   "source": [
    "r_sq4 = model4.score(X4_train, y4_train)\n",
    "print(f'Coeficient de determinació R^2 model 4: {r_sq4:.3f}')"
   ]
  },
  {
   "cell_type": "markdown",
   "id": "fd9309d8",
   "metadata": {},
   "source": [
    "#### - Exercici 3\n",
    "\n",
    "Entrena’ls utilitzant els diferents paràmetres que admeten per intentar millorar-ne la predicció."
   ]
  },
  {
   "cell_type": "markdown",
   "id": "18f76ce7",
   "metadata": {},
   "source": [
    ">1 Ajusto el model 4 fent servir GridSearchCV. 1er ajusto cv"
   ]
  },
  {
   "cell_type": "code",
   "execution_count": 25,
   "id": "39b22fad",
   "metadata": {},
   "outputs": [
    {
     "name": "stdout",
     "output_type": "stream",
     "text": [
      "cv= 2 , R^2=0.704, MAE=3.379, RMSE=4.811\n",
      "cv= 3 , R^2=0.712, MAE=3.379, RMSE=4.811\n",
      "cv= 4 , R^2=0.708, MAE=3.379, RMSE=4.811\n",
      "cv= 5 , R^2=0.685, MAE=3.379, RMSE=4.811\n",
      "cv= 6 , R^2=0.705, MAE=3.379, RMSE=4.811\n",
      "cv= 7 , R^2=0.710, MAE=3.379, RMSE=4.811\n",
      "cv= 8 , R^2=0.703, MAE=3.379, RMSE=4.811\n",
      "cv= 9 , R^2=0.694, MAE=3.379, RMSE=4.811\n",
      "cv= 10 , R^2=0.687, MAE=3.379, RMSE=4.811\n"
     ]
    }
   ],
   "source": [
    "# Ajusto el model 4 fent servir GridSearchCV\n",
    "\n",
    "from sklearn.model_selection import GridSearchCV\n",
    "\n",
    "# En una regressió lineal veig que aquest son el paràmetres que es poden ajustar:\n",
    "parametres4 = {'fit_intercept':[True,False], 'normalize':[True,False], 'copy_X':[True, False]}\n",
    "\n",
    "# Ara faig un bucle per determinar el valor de cv de GridSearch que em dona el coeficient més alt\n",
    "llista_cv = [2,3,4,5,6,7,8,9,10]\n",
    "y4_pred = model4.predict(X4_train)\n",
    "\n",
    "for valor_cv in llista_cv:\n",
    "    grid4 = GridSearchCV(model4, parametres4, cv=valor_cv)\n",
    "    grid4.fit(X4_train, y4_train)\n",
    "    print(\"cv=\",valor_cv,f\", R^2={grid4.best_score_:.3f}, MAE={mean_absolute_error(y4_train, y4_pred):.3f}, RMSE={math.sqrt(mean_squared_error(y4_train, y4_pred)):.3f}\")\n",
    "\n",
    "# El millor seria cv = 3"
   ]
  },
  {
   "cell_type": "markdown",
   "id": "9e118bd4",
   "metadata": {},
   "source": [
    ">2 Ajusto el model4 (regressio lineal)"
   ]
  },
  {
   "cell_type": "code",
   "execution_count": 26,
   "id": "34fa3a08",
   "metadata": {
    "scrolled": false
   },
   "outputs": [
    {
     "name": "stdout",
     "output_type": "stream",
     "text": [
      " Resultat del Grid Search \n",
      "El millor score de TOTS els parametres analitzats: 0.712\n",
      "Els millors parametres de tots els analitzats: \n",
      "{'copy_X': True, 'fit_intercept': True, 'normalize': True}\n"
     ]
    }
   ],
   "source": [
    "# Fem un grid search amb els tres parametres que permet la regressió lineal i cv = 3\n",
    "\n",
    "parametres4 = {'fit_intercept':[True,False], 'normalize':[True,False], 'copy_X':[True, False]}\n",
    "\n",
    "grid4 = GridSearchCV(model4, parametres4, cv=3)\n",
    "grid4.fit(X4_train, y4_train)\n",
    "\n",
    "print(\" Resultat del Grid Search \" )\n",
    "print(f\"El millor score de TOTS els parametres analitzats: {grid4.best_score_:.3f}\")\n",
    "print(f\"Els millors parametres de tots els analitzats: \\n{grid4.best_params_}\")"
   ]
  },
  {
   "cell_type": "markdown",
   "id": "5d4a7316",
   "metadata": {},
   "source": [
    "#### Resultat pel model 4: Linear regression:\n",
    "En el cas de la regressió lineal amb tots els atributs, els millors parametres son el que ja venen per defecte"
   ]
  },
  {
   "cell_type": "markdown",
   "id": "b3f3e0c3",
   "metadata": {},
   "source": [
    "> 3 Forest Regression (model5): generat i ajustat fent servir GridSearchCV"
   ]
  },
  {
   "cell_type": "markdown",
   "id": "8d07a26e",
   "metadata": {},
   "source": [
    "#### Random Forest regression\n",
    "Fem un 5e model, ara de Random Forest, que dona més joc per evaluar paràmetres"
   ]
  },
  {
   "cell_type": "code",
   "execution_count": 27,
   "id": "b98a39f3",
   "metadata": {
    "scrolled": true
   },
   "outputs": [
    {
     "data": {
      "text/plain": [
       "GridSearchCV(cv=3, estimator=RandomForestRegressor(),\n",
       "             param_grid=[{'bootstrap': [True, False],\n",
       "                          'criterion': ['mse', 'mae'], 'max_depth': [100, 200],\n",
       "                          'max_features': [3, 4, 5, 6],\n",
       "                          'n_estimators': [50, 100, 150]}],\n",
       "             scoring='neg_mean_squared_error')"
      ]
     },
     "execution_count": 27,
     "metadata": {},
     "output_type": "execute_result"
    }
   ],
   "source": [
    "# En aquest model de regressió farem un Random Forest\n",
    "from sklearn.ensemble import RandomForestRegressor\n",
    "\n",
    "parametres5 = [{'n_estimators': [50, 100, 150], \n",
    "                'max_features': [3, 4, 5, 6],\n",
    "                'bootstrap': [True, False],\n",
    "                'criterion':['mse', 'mae'],\n",
    "                'max_depth':[100,200]}]\n",
    "\n",
    "model5 = RandomForestRegressor()\n",
    "model5.fit(X4_train, y4_train)\n",
    "\n",
    "grid_search5 = GridSearchCV(model5, param_grid = parametres5 , cv=3, scoring='neg_mean_squared_error')\n",
    "grid_search5.fit(X4_train, y4_train)"
   ]
  },
  {
   "cell_type": "code",
   "execution_count": 28,
   "id": "dee8efa8",
   "metadata": {},
   "outputs": [
    {
     "name": "stdout",
     "output_type": "stream",
     "text": [
      " Resultat del Grid Search \n",
      "El millor estimator de entre tots els parametres analitzats:\n",
      " RandomForestRegressor(criterion='mae', max_depth=100, max_features=5)\n",
      "\n",
      "El millor score de TOTS els parametres analitzats: -14.548\n",
      "Els millors parametres de tots els analitzats: \n",
      "{'bootstrap': True, 'criterion': 'mae', 'max_depth': 100, 'max_features': 5, 'n_estimators': 100}\n"
     ]
    }
   ],
   "source": [
    "print(\" Resultat del Grid Search \" )\n",
    "print(f\"El millor estimator de entre tots els parametres analitzats:\\n {grid_search5.best_estimator_}\\n\")\n",
    "print(f\"El millor score de TOTS els parametres analitzats: {grid_search5.best_score_:.3f}\")\n",
    "print(f\"Els millors parametres de tots els analitzats: \\n{grid_search5.best_params_}\")"
   ]
  },
  {
   "cell_type": "markdown",
   "id": "7a440cd4",
   "metadata": {},
   "source": [
    "> 4 Gradient Boosting Regression (model6): generat i ajustat fent servir GridSearchCV"
   ]
  },
  {
   "cell_type": "markdown",
   "id": "4bce532e",
   "metadata": {},
   "source": [
    "#### Gradient Boosting regression\n",
    "Fem un 6e model, ara de Gradient Boosting Regressor, que també dona bastant joc per evaluar paràmetres"
   ]
  },
  {
   "cell_type": "code",
   "execution_count": 29,
   "id": "908c00d8",
   "metadata": {
    "scrolled": true
   },
   "outputs": [
    {
     "data": {
      "text/plain": [
       "GridSearchCV(cv=3, estimator=GradientBoostingRegressor(), n_jobs=-1,\n",
       "             param_grid={'learning_rate': [0.01, 0.02, 0.03, 0.04],\n",
       "                         'max_depth': [4, 6, 8, 10],\n",
       "                         'n_estimators': [100, 500, 1000, 1500],\n",
       "                         'subsample': [0.9, 0.5, 0.2, 0.1]})"
      ]
     },
     "execution_count": 29,
     "metadata": {},
     "output_type": "execute_result"
    }
   ],
   "source": [
    "# I finalment farem un model Gradient Boosting Regressor\n",
    "from sklearn.ensemble import GradientBoostingRegressor\n",
    "\n",
    "model6 = GradientBoostingRegressor()\n",
    "\n",
    "parametres6 = {'learning_rate': [0.01,0.02,0.03,0.04],\n",
    "                  'subsample'    : [0.9, 0.5, 0.2, 0.1],\n",
    "                  'n_estimators' : [100,500,1000, 1500],\n",
    "                  'max_depth'    : [4,6,8,10]}\n",
    "\n",
    "grid_search6 = GridSearchCV(estimator=model6, param_grid = parametres6, cv = 3, n_jobs=-1)\n",
    "grid_search6.fit(X4_train, y4_train)"
   ]
  },
  {
   "cell_type": "code",
   "execution_count": 30,
   "id": "2bea1291",
   "metadata": {},
   "outputs": [
    {
     "name": "stdout",
     "output_type": "stream",
     "text": [
      " Resultat del Grid Search \n",
      "El millor estimator de entre tots els parametres analitzats:\n",
      " GradientBoostingRegressor(learning_rate=0.01, max_depth=4, n_estimators=1500,\n",
      "                          subsample=0.5)\n",
      "\n",
      "El millor score de TOTS els parametres analitzats: 0.841\n",
      "Els millors parametres de tots els analitzats: \n",
      "{'learning_rate': 0.01, 'max_depth': 4, 'n_estimators': 1500, 'subsample': 0.5}\n"
     ]
    }
   ],
   "source": [
    "print(\" Resultat del Grid Search \" )\n",
    "print(f\"El millor estimator de entre tots els parametres analitzats:\\n {grid_search6.best_estimator_}\\n\")\n",
    "print(f\"El millor score de TOTS els parametres analitzats: {grid_search6.best_score_:.3f}\")\n",
    "print(f\"Els millors parametres de tots els analitzats: \\n{grid_search6.best_params_}\")"
   ]
  },
  {
   "cell_type": "markdown",
   "id": "9ffaf15b",
   "metadata": {},
   "source": [
    "#### - Exercici 4\n",
    "\n",
    "Compara el seu rendiment emprant l’aproximació traint/test o emprant totes les dades (validació interna)."
   ]
  },
  {
   "cell_type": "markdown",
   "id": "7cba0c4f",
   "metadata": {},
   "source": [
    "##### Farem servir els model 5 (RandomForestRegressor) i 6 (GradientBoostingRegressor)"
   ]
  },
  {
   "cell_type": "markdown",
   "id": "42176c65",
   "metadata": {},
   "source": [
    "> 1 Calculem les prediccions pels models 5 i 6"
   ]
  },
  {
   "cell_type": "code",
   "execution_count": 31,
   "id": "0b86f335",
   "metadata": {},
   "outputs": [],
   "source": [
    "# Primer veurem com es comporten les prediccion dels model original i entrenats de manera gràfica\n",
    "# Calculem totes les prediccions\n",
    "\n",
    "model5_untrained = RandomForestRegressor()\n",
    "model5_untrained.fit(X4_train, y4_train)\n",
    "predictions5_untrained = model5_untrained.predict(X4_train)\n",
    "\n",
    "model5_trained = RandomForestRegressor(bootstrap = True, criterion = 'mae', max_depth= 200, max_features= 4, n_estimators= 50)\n",
    "model5_trained.fit(X4_train, y4_train)\n",
    "predictions5_trained = model5_trained.predict(X4_train)\n",
    "\n",
    "model6_untrained = GradientBoostingRegressor()\n",
    "model6_untrained.fit(X4_train, y4_train)\n",
    "predictions6_untrained = model6_untrained.predict(X4_train)\n",
    "\n",
    "model6_trained = GradientBoostingRegressor(learning_rate= 0.03, max_depth= 4, n_estimators= 500, subsample= 0.5)\n",
    "model6_trained.fit(X4_train, y4_train)\n",
    "predictions6_trained = model6_trained.predict(X4_train)"
   ]
  },
  {
   "cell_type": "markdown",
   "id": "ffc617fb",
   "metadata": {},
   "source": [
    "> 2 Representació gràfica (dispersió) dels models 5 i 6 entrenats i no entrenats"
   ]
  },
  {
   "cell_type": "code",
   "execution_count": 32,
   "id": "9815b7ef",
   "metadata": {
    "scrolled": false
   },
   "outputs": [
    {
     "data": {
      "image/png": "[encoded data removed]",
      "text/plain": [
       "<Figure size 1080x720 with 4 Axes>"
      ]
     },
     "metadata": {
      "needs_background": "light"
     },
     "output_type": "display_data"
    }
   ],
   "source": [
    "# i les representem gràficament\n",
    "\n",
    "plt.figure(figsize=(15,10))\n",
    "plt.subplots_adjust(left=None, bottom=None, right=None, top=None, wspace=None, hspace=.2)\n",
    "\n",
    "plt.subplot(2,2,1)\n",
    "plt.scatter(y4_train, predictions5_untrained, c= 'red', s=5)\n",
    "plt.scatter(y4_train, predictions5_trained, c= 'black', s=5)\n",
    "plt.title('Random Forest')\n",
    "plt.xlabel(\"\")\n",
    "plt.ylabel(\"Valors predits\")\n",
    "plt.legend(('No entrenat', 'Entrenat'), loc='upper left', ncol=1, fontsize=10)\n",
    "\n",
    "plt.subplot(2,2,2)\n",
    "plt.scatter(y4_train, predictions6_untrained, c= 'red', s=5)\n",
    "plt.scatter(y4_train, predictions6_trained, c= 'black', s=5)\n",
    "plt.title('Gradient Boosting')\n",
    "plt.xlabel(\"\")\n",
    "plt.ylabel(\"\")\n",
    "plt.legend(('No entrenat', 'Entrenat'), loc='upper left', ncol=1, fontsize=10)\n",
    "\n",
    "\n",
    "plt.subplot(2,2,3)\n",
    "plt.scatter(y4_train, predictions5_untrained, c= 'red', s=5)\n",
    "plt.scatter(y4_train, predictions6_untrained, c= 'black', s=5)\n",
    "plt.title('No entrenat')\n",
    "plt.xlabel(\"Valors reals\")\n",
    "plt.ylabel(\"Valors predits\")\n",
    "plt.legend(('Random Forest', 'Gradient Boosting'), loc='upper left', ncol=1, fontsize=10)\n",
    "\n",
    "plt.subplot(2,2,4)\n",
    "plt.scatter(y4_train, predictions5_trained, c= 'red', s=5)\n",
    "plt.scatter(y4_train, predictions6_trained, c= 'black', s=5)\n",
    "plt.title('Entrenat')\n",
    "plt.xlabel(\"Valors reals\")\n",
    "plt.ylabel(\"\")\n",
    "plt.legend(('Random Forest', 'Gradient Boosting'), loc='upper left', ncol=1, fontsize=10)\n",
    "\n",
    "plt.show();\n"
   ]
  },
  {
   "cell_type": "markdown",
   "id": "ef15bfd7",
   "metadata": {},
   "source": [
    "### Resultat de les gràfiques\n",
    "\n",
    "##### Pel Random forest:\n",
    "A simple vista es veu que els valors del model entrenat s'ajusten millor a la recta, encara que surten alguns valors allunyats\n",
    "##### Pel Gradient Boosting:\n",
    "Els valors s'ajusten molt millor a una recta\n",
    "##### Comparant els models RF i GB (gràfiques de sota)\n",
    "En tots dos casos el model GB s'ajusta millor a una recta. es molt notori als punts situats mes a la dreta de la gràfica"
   ]
  },
  {
   "cell_type": "markdown",
   "id": "3d166496",
   "metadata": {},
   "source": [
    ">3 Distribució de la diferencia entre el valors reals i predits, models 5 i 6, entrenats i no entrenats"
   ]
  },
  {
   "cell_type": "code",
   "execution_count": 33,
   "id": "89c26700",
   "metadata": {
    "scrolled": false
   },
   "outputs": [
    {
     "data": {
      "image/png": "[encoded data removed]",
      "text/plain": [
       "<Figure size 1080x504 with 4 Axes>"
      ]
     },
     "metadata": {
      "needs_background": "light"
     },
     "output_type": "display_data"
    }
   ],
   "source": [
    "# Veiem la distribució de les diferencies entre el valors reals i els valors predits pel model\n",
    "\n",
    "plt.figure(figsize=(15,7))\n",
    "plt.subplots_adjust(left=None, bottom=None, right=None, top=None, wspace=None, hspace=.45)\n",
    "\n",
    "\n",
    "plt.subplot(2,2,1)\n",
    "plt.hist((y4_train - predictions5_untrained), bins=50, range=[-10,10], density=True, histtype='bar', align='mid')\n",
    "plt.ylim((0,0.6))\n",
    "plt.grid(True, axis = 'x')\n",
    "plt.title('Random Forest, no entrenat')\n",
    "\n",
    "plt.subplot(2,2,2)\n",
    "plt.hist((y4_train - predictions5_trained), bins=50, range=[-10,10], density=True, histtype='bar', align='mid')\n",
    "plt.ylim((0,0.6))\n",
    "plt.grid(True, axis = 'x')\n",
    "plt.title('Random Forest, entrenat')\n",
    "\n",
    "plt.subplot(2,2,3)\n",
    "# sns.displot((y4_train - predictions5_untrained),bins=50, kde= True)\n",
    "plt.hist((y4_train - predictions6_untrained), bins=50, range=[-10,10], density=True, histtype='bar', align='mid')\n",
    "plt.ylim((0,0.6))\n",
    "plt.grid(True, axis = 'x')\n",
    "plt.xlabel(\"Diferencia valors reals - valors predits\")\n",
    "plt.title('Gradient Boosting, no entrenat')\n",
    "\n",
    "plt.subplot(2,2,4)\n",
    "plt.hist((y4_train - predictions6_trained), bins=50, range=[-10,10], density=True, histtype='bar', align='mid')\n",
    "plt.ylim((0,0.6))\n",
    "plt.grid(True, axis = 'x')\n",
    "plt.xlabel(\"Diferencia valors reals - valors predits\")\n",
    "plt.title('Gradient Boosting, entrenat');"
   ]
  },
  {
   "cell_type": "markdown",
   "id": "fcc12244",
   "metadata": {},
   "source": [
    "### Resultat dels histogrames\n",
    "\n",
    "##### Pel Random forest:\n",
    "No sembla mostrar massa diferencia entre entrenats i no entrenats\n",
    "##### Pel Gradient Boosting:\n",
    "Les diferencies entre els valos reals i els valors predits es reduixen molt notablement al model entrenat: podria ser un cas d'overfitting"
   ]
  },
  {
   "cell_type": "markdown",
   "id": "b7655e98",
   "metadata": {},
   "source": [
    "#### Calculem el RMSE pels dos models (5 i 6), entrenats i no entrenats"
   ]
  },
  {
   "cell_type": "markdown",
   "id": "baf8ade9",
   "metadata": {},
   "source": [
    "> 4 Creació de la taula Resultats RMSE de tots els models"
   ]
  },
  {
   "cell_type": "code",
   "execution_count": 34,
   "id": "85e9aec7",
   "metadata": {},
   "outputs": [
    {
     "data": {
      "text/html": [
       "<div>\n",
       "<style scoped>\n",
       "    .dataframe tbody tr th:only-of-type {\n",
       "        vertical-align: middle;\n",
       "    }\n",
       "\n",
       "    .dataframe tbody tr th {\n",
       "        vertical-align: top;\n",
       "    }\n",
       "\n",
       "    .dataframe thead th {\n",
       "        text-align: right;\n",
       "    }\n",
       "</style>\n",
       "<table border=\"1\" class=\"dataframe\">\n",
       "  <thead>\n",
       "    <tr style=\"text-align: right;\">\n",
       "      <th></th>\n",
       "      <th>Model</th>\n",
       "    </tr>\n",
       "  </thead>\n",
       "  <tbody>\n",
       "    <tr>\n",
       "      <th>0</th>\n",
       "      <td>RndFor_UnTr</td>\n",
       "    </tr>\n",
       "    <tr>\n",
       "      <th>1</th>\n",
       "      <td>RndFor_Tr</td>\n",
       "    </tr>\n",
       "    <tr>\n",
       "      <th>2</th>\n",
       "      <td>GrdBoost_UnTr</td>\n",
       "    </tr>\n",
       "    <tr>\n",
       "      <th>3</th>\n",
       "      <td>GrdBoost_Tr</td>\n",
       "    </tr>\n",
       "  </tbody>\n",
       "</table>\n",
       "</div>"
      ],
      "text/plain": [
       "           Model\n",
       "0    RndFor_UnTr\n",
       "1      RndFor_Tr\n",
       "2  GrdBoost_UnTr\n",
       "3    GrdBoost_Tr"
      ]
     },
     "execution_count": 34,
     "metadata": {},
     "output_type": "execute_result"
    }
   ],
   "source": [
    "Resultats = pd.DataFrame()\n",
    "descrip = ['RndFor_UnTr','RndFor_Tr','GrdBoost_UnTr','GrdBoost_Tr']\n",
    "Resultats['Model'] = descrip\n",
    "\n",
    "Resultats"
   ]
  },
  {
   "cell_type": "markdown",
   "id": "91838083",
   "metadata": {},
   "source": [
    "> 5 Calcul RMSE de models 5 i 6, entrenats i no entrenats. Dades:Train"
   ]
  },
  {
   "cell_type": "code",
   "execution_count": 35,
   "id": "cd7d3632",
   "metadata": {},
   "outputs": [
    {
     "data": {
      "text/html": [
       "<div>\n",
       "<style scoped>\n",
       "    .dataframe tbody tr th:only-of-type {\n",
       "        vertical-align: middle;\n",
       "    }\n",
       "\n",
       "    .dataframe tbody tr th {\n",
       "        vertical-align: top;\n",
       "    }\n",
       "\n",
       "    .dataframe thead th {\n",
       "        text-align: right;\n",
       "    }\n",
       "</style>\n",
       "<table border=\"1\" class=\"dataframe\">\n",
       "  <thead>\n",
       "    <tr style=\"text-align: right;\">\n",
       "      <th></th>\n",
       "      <th>Model</th>\n",
       "      <th>Dades:Train</th>\n",
       "    </tr>\n",
       "  </thead>\n",
       "  <tbody>\n",
       "    <tr>\n",
       "      <th>0</th>\n",
       "      <td>RndFor_UnTr</td>\n",
       "      <td>1.355661</td>\n",
       "    </tr>\n",
       "    <tr>\n",
       "      <th>1</th>\n",
       "      <td>RndFor_Tr</td>\n",
       "      <td>1.335695</td>\n",
       "    </tr>\n",
       "    <tr>\n",
       "      <th>2</th>\n",
       "      <td>GrdBoost_UnTr</td>\n",
       "      <td>1.321153</td>\n",
       "    </tr>\n",
       "    <tr>\n",
       "      <th>3</th>\n",
       "      <td>GrdBoost_Tr</td>\n",
       "      <td>0.609427</td>\n",
       "    </tr>\n",
       "  </tbody>\n",
       "</table>\n",
       "</div>"
      ],
      "text/plain": [
       "           Model  Dades:Train\n",
       "0    RndFor_UnTr     1.355661\n",
       "1      RndFor_Tr     1.335695\n",
       "2  GrdBoost_UnTr     1.321153\n",
       "3    GrdBoost_Tr     0.609427"
      ]
     },
     "execution_count": 35,
     "metadata": {},
     "output_type": "execute_result"
    }
   ],
   "source": [
    "# veiem fent servir els valors del set train\n",
    "\n",
    "valors_X4 =[predictions5_untrained,predictions5_trained,predictions6_untrained,predictions6_trained]\n",
    "etiquet_X4 =['predictions5_untrained','predictions5_trained','predictions6_untrained','predictions6_trained']\n",
    "llista_resultat = []\n",
    "contador = 0\n",
    "\n",
    "for calc_RMSE in valors_X4:\n",
    "    rmse_calc = math.sqrt(mean_squared_error(y4_train, calc_RMSE))\n",
    "    llista_resultat.append(rmse_calc)\n",
    "    contador += 1\n",
    "    \n",
    "Resultats['Dades:Train'] = llista_resultat\n",
    "Resultats"
   ]
  },
  {
   "cell_type": "markdown",
   "id": "a42c77d5",
   "metadata": {},
   "source": [
    "#### Resultats: \n",
    "De nou el model entrenat de Gradient Boosting mostra una disminució molt notable del RMSE"
   ]
  },
  {
   "cell_type": "markdown",
   "id": "1e217a8f",
   "metadata": {},
   "source": [
    "> 6 Calcul RMSE de models 5 i 6, entrenats i no entrenats. **Dades:Test**  "
   ]
  },
  {
   "cell_type": "code",
   "execution_count": 36,
   "id": "ca8e1d55",
   "metadata": {},
   "outputs": [],
   "source": [
    "# Ara fem el mateix pel set test\n",
    "# i calculem totes les prediccions\n",
    "\n",
    "model5_untrained_test = RandomForestRegressor()\n",
    "model5_untrained_test.fit(X4_test, y4_test)\n",
    "predictions5_untrained_test = model5_untrained_test.predict(X4_test)\n",
    "\n",
    "model5_trained_test = RandomForestRegressor(bootstrap = True, criterion = 'mae', max_depth= 200, max_features= 4, n_estimators= 50)\n",
    "model5_trained_test.fit(X4_test, y4_test)\n",
    "predictions5_trained_test = model5_trained_test.predict(X4_test)\n",
    "\n",
    "model6_untrained_test = GradientBoostingRegressor()\n",
    "model6_untrained_test.fit(X4_test, y4_test)\n",
    "predictions6_untrained_test = model6_untrained_test.predict(X4_test)\n",
    "\n",
    "model6_trained_test = GradientBoostingRegressor(learning_rate= 0.03, max_depth= 4, n_estimators= 500, subsample= 0.5)\n",
    "model6_trained_test.fit(X4_test, y4_test)\n",
    "predictions6_trained_test = model6_trained_test.predict(X4_test)"
   ]
  },
  {
   "cell_type": "code",
   "execution_count": 37,
   "id": "9c505d45",
   "metadata": {},
   "outputs": [
    {
     "data": {
      "text/html": [
       "<div>\n",
       "<style scoped>\n",
       "    .dataframe tbody tr th:only-of-type {\n",
       "        vertical-align: middle;\n",
       "    }\n",
       "\n",
       "    .dataframe tbody tr th {\n",
       "        vertical-align: top;\n",
       "    }\n",
       "\n",
       "    .dataframe thead th {\n",
       "        text-align: right;\n",
       "    }\n",
       "</style>\n",
       "<table border=\"1\" class=\"dataframe\">\n",
       "  <thead>\n",
       "    <tr style=\"text-align: right;\">\n",
       "      <th></th>\n",
       "      <th>Model</th>\n",
       "      <th>Dades:Train</th>\n",
       "      <th>Dades:Test</th>\n",
       "    </tr>\n",
       "  </thead>\n",
       "  <tbody>\n",
       "    <tr>\n",
       "      <th>0</th>\n",
       "      <td>RndFor_UnTr</td>\n",
       "      <td>1.355661</td>\n",
       "      <td>1.471704</td>\n",
       "    </tr>\n",
       "    <tr>\n",
       "      <th>1</th>\n",
       "      <td>RndFor_Tr</td>\n",
       "      <td>1.335695</td>\n",
       "      <td>1.430454</td>\n",
       "    </tr>\n",
       "    <tr>\n",
       "      <th>2</th>\n",
       "      <td>GrdBoost_UnTr</td>\n",
       "      <td>1.321153</td>\n",
       "      <td>0.629973</td>\n",
       "    </tr>\n",
       "    <tr>\n",
       "      <th>3</th>\n",
       "      <td>GrdBoost_Tr</td>\n",
       "      <td>0.609427</td>\n",
       "      <td>0.210626</td>\n",
       "    </tr>\n",
       "  </tbody>\n",
       "</table>\n",
       "</div>"
      ],
      "text/plain": [
       "           Model  Dades:Train  Dades:Test\n",
       "0    RndFor_UnTr     1.355661    1.471704\n",
       "1      RndFor_Tr     1.335695    1.430454\n",
       "2  GrdBoost_UnTr     1.321153    0.629973\n",
       "3    GrdBoost_Tr     0.609427    0.210626"
      ]
     },
     "execution_count": 37,
     "metadata": {},
     "output_type": "execute_result"
    }
   ],
   "source": [
    "# veiem fent servir els valors del set test\n",
    "\n",
    "valors_X4_test =[predictions5_untrained_test,predictions5_trained_test,predictions6_untrained_test,predictions6_trained_test]\n",
    "etiquet_X4_test =['predictions5_untrained_test','predictions5_trained_test','predictions6_untrained_test','predictions6_trained_test']\n",
    "llista_resultat =[]\n",
    "contador = 0\n",
    "\n",
    "for calc_RMSE_test in valors_X4_test:\n",
    "    rmse_calc_test = math.sqrt(mean_squared_error(y4_test, calc_RMSE_test))\n",
    "    llista_resultat.append(rmse_calc_test)\n",
    "    contador += 1\n",
    "    \n",
    "Resultats['Dades:Test'] = llista_resultat\n",
    "Resultats"
   ]
  },
  {
   "cell_type": "markdown",
   "id": "e03ba336",
   "metadata": {},
   "source": [
    "> 7 Calcul RMSE de models 5 i 6, entrenats i no entrenats. **Dades:Totes**"
   ]
  },
  {
   "cell_type": "code",
   "execution_count": 38,
   "id": "5c763180",
   "metadata": {},
   "outputs": [],
   "source": [
    "# Ara fem el mateix per totes les dades\n",
    "# i calculem totes les prediccions\n",
    "\n",
    "model5_untrained_all = RandomForestRegressor()\n",
    "model5_untrained_all.fit(X4, y4)\n",
    "predictions5_untrained_all = model5_untrained_all.predict(X4)\n",
    "\n",
    "model5_trained_all = RandomForestRegressor(bootstrap = True, criterion = 'mae', max_depth= 200, max_features= 4, n_estimators= 50)\n",
    "model5_trained_all.fit(X4, y4)\n",
    "predictions5_trained_all = model5_trained_all.predict(X4)\n",
    "\n",
    "model6_untrained_all = GradientBoostingRegressor()\n",
    "model6_untrained_all.fit(X4, y4)\n",
    "predictions6_untrained_all = model6_untrained_all.predict(X4)\n",
    "\n",
    "model6_trained_all = GradientBoostingRegressor(learning_rate= 0.03, max_depth= 4, n_estimators= 500, subsample= 0.5)\n",
    "model6_trained_all.fit(X4, y4)\n",
    "predictions6_trained_all = model6_trained_all.predict(X4)"
   ]
  },
  {
   "cell_type": "code",
   "execution_count": 39,
   "id": "b5a9a604",
   "metadata": {},
   "outputs": [
    {
     "data": {
      "text/html": [
       "<div>\n",
       "<style scoped>\n",
       "    .dataframe tbody tr th:only-of-type {\n",
       "        vertical-align: middle;\n",
       "    }\n",
       "\n",
       "    .dataframe tbody tr th {\n",
       "        vertical-align: top;\n",
       "    }\n",
       "\n",
       "    .dataframe thead th {\n",
       "        text-align: right;\n",
       "    }\n",
       "</style>\n",
       "<table border=\"1\" class=\"dataframe\">\n",
       "  <thead>\n",
       "    <tr style=\"text-align: right;\">\n",
       "      <th></th>\n",
       "      <th>Model</th>\n",
       "      <th>Dades:Train</th>\n",
       "      <th>Dades:Test</th>\n",
       "      <th>Dades:Totes</th>\n",
       "    </tr>\n",
       "  </thead>\n",
       "  <tbody>\n",
       "    <tr>\n",
       "      <th>0</th>\n",
       "      <td>RndFor_UnTr</td>\n",
       "      <td>1.355661</td>\n",
       "      <td>1.471704</td>\n",
       "      <td>1.232499</td>\n",
       "    </tr>\n",
       "    <tr>\n",
       "      <th>1</th>\n",
       "      <td>RndFor_Tr</td>\n",
       "      <td>1.335695</td>\n",
       "      <td>1.430454</td>\n",
       "      <td>1.195981</td>\n",
       "    </tr>\n",
       "    <tr>\n",
       "      <th>2</th>\n",
       "      <td>GrdBoost_UnTr</td>\n",
       "      <td>1.321153</td>\n",
       "      <td>0.629973</td>\n",
       "      <td>1.440862</td>\n",
       "    </tr>\n",
       "    <tr>\n",
       "      <th>3</th>\n",
       "      <td>GrdBoost_Tr</td>\n",
       "      <td>0.609427</td>\n",
       "      <td>0.210626</td>\n",
       "      <td>0.744611</td>\n",
       "    </tr>\n",
       "  </tbody>\n",
       "</table>\n",
       "</div>"
      ],
      "text/plain": [
       "           Model  Dades:Train  Dades:Test  Dades:Totes\n",
       "0    RndFor_UnTr     1.355661    1.471704     1.232499\n",
       "1      RndFor_Tr     1.335695    1.430454     1.195981\n",
       "2  GrdBoost_UnTr     1.321153    0.629973     1.440862\n",
       "3    GrdBoost_Tr     0.609427    0.210626     0.744611"
      ]
     },
     "execution_count": 39,
     "metadata": {},
     "output_type": "execute_result"
    }
   ],
   "source": [
    "valors_X4_all =[predictions5_untrained_all,predictions5_trained_all,predictions6_untrained_all,predictions6_trained_all]\n",
    "etiquet_X4_all =['predictions5_untrained_all','predictions5_trained_all','predictions6_untrained_all','predictions6_trained_all']\n",
    "llista_resultat =[]\n",
    "contador = 0\n",
    "\n",
    "for calc_RMSE_all in valors_X4_all:\n",
    "    rmse_calc_all = math.sqrt(mean_squared_error(y4, calc_RMSE_all))\n",
    "    llista_resultat.append(rmse_calc_all)\n",
    "    contador += 1\n",
    "    \n",
    "Resultats['Dades:Totes'] = llista_resultat\n",
    "Resultats   "
   ]
  },
  {
   "cell_type": "markdown",
   "id": "4d5cff27",
   "metadata": {},
   "source": [
    "#### - Exercici 5\n",
    "\n",
    "No facis servir la variable del nombre d'habitacions (RM) a l’hora de fer prediccions."
   ]
  },
  {
   "cell_type": "markdown",
   "id": "4d542c73",
   "metadata": {},
   "source": [
    "> 1 X i y, excloent-hi 'RM', split Train/test"
   ]
  },
  {
   "cell_type": "code",
   "execution_count": 40,
   "id": "7a19df2c",
   "metadata": {},
   "outputs": [],
   "source": [
    "#Definim les 'X' i la 'y'. En aquest cas hem eliminat l'atribut 'RM'\n",
    "X7 = housing[['CRIM','ZN','INDUS','NOX','AGE','DIS','RAD','TAX','PTRATIO','B','LSTAT']]\n",
    "y7 = housing['MEDV']\n",
    "\n",
    "from sklearn.model_selection import train_test_split\n",
    "\n",
    "X7_train, X7_test, y7_train, y7_test = train_test_split(X7, y7, test_size=0.3, random_state=42)"
   ]
  },
  {
   "cell_type": "markdown",
   "id": "9d714a9b",
   "metadata": {},
   "source": [
    "> 2 Regressio Random forest (model7)"
   ]
  },
  {
   "cell_type": "code",
   "execution_count": 41,
   "id": "37b8a32e",
   "metadata": {},
   "outputs": [
    {
     "data": {
      "text/plain": [
       "GridSearchCV(cv=3, estimator=RandomForestRegressor(),\n",
       "             param_grid=[{'bootstrap': [True, False],\n",
       "                          'criterion': ['mse', 'mae'], 'max_depth': [100, 200],\n",
       "                          'max_features': [3, 4, 5, 6],\n",
       "                          'n_estimators': [50, 100, 150]}],\n",
       "             scoring='neg_mean_squared_error')"
      ]
     },
     "execution_count": 41,
     "metadata": {},
     "output_type": "execute_result"
    }
   ],
   "source": [
    "# Farem un Random Forest\n",
    "from sklearn.ensemble import RandomForestRegressor\n",
    "\n",
    "parametres7 = [{'n_estimators': [50, 100, 150], \n",
    "                'max_features': [3, 4, 5, 6],\n",
    "                'bootstrap': [True, False],\n",
    "                'criterion':['mse', 'mae'],\n",
    "                'max_depth':[100,200]}]\n",
    "\n",
    "model7 = RandomForestRegressor()\n",
    "model7.fit(X7_train, y7_train)\n",
    "\n",
    "grid_search7 = GridSearchCV(model7, param_grid = parametres7 , cv=3, scoring='neg_mean_squared_error')\n",
    "grid_search7.fit(X7_train, y7_train)"
   ]
  },
  {
   "cell_type": "code",
   "execution_count": 42,
   "id": "b06f8354",
   "metadata": {},
   "outputs": [
    {
     "name": "stdout",
     "output_type": "stream",
     "text": [
      " Resultat del Grid Search \n",
      "El millor estimator de entre tots els parametres analitzats:\n",
      " RandomForestRegressor(criterion='mae', max_depth=200, max_features=4,\n",
      "                      n_estimators=50)\n",
      "\n",
      "El millor score de TOTS els parametres analitzats: -19.700\n",
      "Els millors parametres de tots els analitzats: \n",
      "{'bootstrap': True, 'criterion': 'mae', 'max_depth': 200, 'max_features': 4, 'n_estimators': 50}\n"
     ]
    }
   ],
   "source": [
    "print(\" Resultat del Grid Search \" )\n",
    "print(f\"El millor estimator de entre tots els parametres analitzats:\\n {grid_search7.best_estimator_}\\n\")\n",
    "print(f\"El millor score de TOTS els parametres analitzats: {grid_search7.best_score_:.3f}\")\n",
    "print(f\"Els millors parametres de tots els analitzats: \\n{grid_search7.best_params_}\")"
   ]
  },
  {
   "cell_type": "markdown",
   "id": "8de524fb",
   "metadata": {},
   "source": [
    "> 3 Regressio Gradient Boosting (model8)"
   ]
  },
  {
   "cell_type": "code",
   "execution_count": 43,
   "id": "ad9909ad",
   "metadata": {},
   "outputs": [
    {
     "data": {
      "text/plain": [
       "GridSearchCV(cv=3, estimator=GradientBoostingRegressor(), n_jobs=-1,\n",
       "             param_grid={'learning_rate': [0.01, 0.02, 0.03, 0.04],\n",
       "                         'max_depth': [4, 6, 8, 10],\n",
       "                         'n_estimators': [100, 500, 1000, 1500],\n",
       "                         'subsample': [0.9, 0.5, 0.2, 0.1]})"
      ]
     },
     "execution_count": 43,
     "metadata": {},
     "output_type": "execute_result"
    }
   ],
   "source": [
    "# I finalment farem un model Gradient Boosting Regressor\n",
    "from sklearn.ensemble import GradientBoostingRegressor\n",
    "\n",
    "model8 = GradientBoostingRegressor()\n",
    "\n",
    "parametres8 = {'learning_rate': [0.01,0.02,0.03,0.04],\n",
    "                  'subsample'    : [0.9, 0.5, 0.2, 0.1],\n",
    "                  'n_estimators' : [100,500,1000, 1500],\n",
    "                  'max_depth'    : [4,6,8,10]}\n",
    "\n",
    "grid_search8 = GridSearchCV(estimator=model8, param_grid = parametres6, cv = 3, n_jobs=-1)\n",
    "grid_search8.fit(X7_train, y7_train)"
   ]
  },
  {
   "cell_type": "code",
   "execution_count": 44,
   "id": "ece3c909",
   "metadata": {
    "scrolled": true
   },
   "outputs": [
    {
     "name": "stdout",
     "output_type": "stream",
     "text": [
      " Resultat del Grid Search \n",
      "El millor estimator de entre tots els parametres analitzats:\n",
      " GradientBoostingRegressor(learning_rate=0.01, max_depth=6, n_estimators=1000,\n",
      "                          subsample=0.1)\n",
      "\n",
      "El millor score de TOTS els parametres analitzats: 0.790\n",
      "Els millors parametres de tots els analitzats: \n",
      "{'learning_rate': 0.01, 'max_depth': 6, 'n_estimators': 1000, 'subsample': 0.1}\n"
     ]
    }
   ],
   "source": [
    "print(\" Resultat del Grid Search \" )\n",
    "print(f\"El millor estimator de entre tots els parametres analitzats:\\n {grid_search8.best_estimator_}\\n\")\n",
    "print(f\"El millor score de TOTS els parametres analitzats: {grid_search8.best_score_:.3f}\")\n",
    "print(f\"Els millors parametres de tots els analitzats: \\n{grid_search8.best_params_}\")"
   ]
  },
  {
   "cell_type": "markdown",
   "id": "6a0da3b2",
   "metadata": {},
   "source": [
    "> 4 Calcul de totes les regressions  \n",
    "    * model7 -> Random forest (entrenat i no entrenat). **Dades:train**  \n",
    "    * model8 -> Gradient Boosting (entrenat i no entrenat. **Dades:train**  \n",
    "    * model9 -> Random forest (entrenat i no entrenat). **Dades:test**  \n",
    "    * model10 -> Gradient Boosting (entrenat i no entrenat. **Dades:test**  \n",
    "    * model11 -> Random forest (entrenat i no entrenat). **Dades:totes**  \n",
    "    * model12 -> Gradient Boosting (entrenat i no entrenat. **Dades:totes**  \n"
   ]
  },
  {
   "cell_type": "code",
   "execution_count": 45,
   "id": "b3f251d2",
   "metadata": {},
   "outputs": [],
   "source": [
    "# Calculem les prediccions segons en nou model\n",
    "\n",
    "model7_untrained_train = RandomForestRegressor()\n",
    "model7_untrained_train.fit(X7_train, y7_train)\n",
    "predictions7_untrained_train = model7_untrained_train.predict(X7_train)\n",
    "\n",
    "model7_trained_train = RandomForestRegressor(bootstrap = True, criterion = 'mae', max_depth= 200, max_features= 5, n_estimators= 150)\n",
    "model7_trained_train.fit(X7_train, y7_train)\n",
    "predictions7_trained_train = model7_trained_train.predict(X7_train)\n",
    "\n",
    "model8_untrained_train = GradientBoostingRegressor()\n",
    "model8_untrained_train.fit(X7_train, y7_train)\n",
    "predictions8_untrained_train = model8_untrained_train.predict(X7_train)\n",
    "\n",
    "model8_trained_train = GradientBoostingRegressor(learning_rate=0.01, max_depth=6, n_estimators=500, subsample=0.1)\n",
    "model8_trained_train.fit(X7_train, y7_train)\n",
    "predictions8_trained_train = model8_trained_train.predict(X7_train)\n",
    "\n",
    "model9_untrained_test = RandomForestRegressor()\n",
    "model9_untrained_test.fit(X7_test, y7_test)\n",
    "predictions9_untrained_test = model9_untrained_test.predict(X7_test)\n",
    "\n",
    "model9_trained_test = RandomForestRegressor(bootstrap = True, criterion = 'mae', max_depth= 200, max_features= 5, n_estimators= 150)\n",
    "model9_trained_test.fit(X7_test, y7_test)\n",
    "predictions9_trained_test = model9_trained_test.predict(X7_test)\n",
    "\n",
    "model10_untrained_test = GradientBoostingRegressor()\n",
    "model10_untrained_test.fit(X7_test, y7_test)\n",
    "predictions10_untrained_test = model10_untrained_test.predict(X7_test)\n",
    "\n",
    "model10_trained_test = GradientBoostingRegressor(learning_rate=0.01, max_depth=6, n_estimators=500, subsample=0.1)\n",
    "model10_trained_test.fit(X7_test, y7_test)\n",
    "predictions10_trained_test = model10_trained_test.predict(X7_test)\n",
    "\n",
    "model11_untrained_all = RandomForestRegressor()\n",
    "model11_untrained_all.fit(X7, y7)\n",
    "predictions11_untrained_all = model11_untrained_all.predict(X7)\n",
    "\n",
    "model11_trained_all = RandomForestRegressor(bootstrap = True, criterion = 'mae', max_depth= 200, max_features= 5, n_estimators= 150)\n",
    "model11_trained_all.fit(X7, y7)\n",
    "predictions11_trained_all = model11_trained_all.predict(X7)\n",
    "\n",
    "model12_untrained_all = GradientBoostingRegressor()\n",
    "model12_untrained_all.fit(X7, y7)\n",
    "predictions12_untrained_all = model12_untrained_all.predict(X7)\n",
    "\n",
    "model12_trained_all = GradientBoostingRegressor(learning_rate=0.01, max_depth=6, n_estimators=500, subsample=0.1)\n",
    "model12_trained_all.fit(X7, y7)\n",
    "predictions12_trained_all = model12_trained_all.predict(X7)\n"
   ]
  },
  {
   "cell_type": "markdown",
   "id": "5b555275",
   "metadata": {},
   "source": [
    "> 5 Afegim una columna als resultats amb els nous noms i afegim (RM-) per indicar que RM està exclosa"
   ]
  },
  {
   "cell_type": "code",
   "execution_count": 46,
   "id": "453601c3",
   "metadata": {},
   "outputs": [
    {
     "data": {
      "text/html": [
       "<div>\n",
       "<style scoped>\n",
       "    .dataframe tbody tr th:only-of-type {\n",
       "        vertical-align: middle;\n",
       "    }\n",
       "\n",
       "    .dataframe tbody tr th {\n",
       "        vertical-align: top;\n",
       "    }\n",
       "\n",
       "    .dataframe thead th {\n",
       "        text-align: right;\n",
       "    }\n",
       "</style>\n",
       "<table border=\"1\" class=\"dataframe\">\n",
       "  <thead>\n",
       "    <tr style=\"text-align: right;\">\n",
       "      <th></th>\n",
       "      <th>Model</th>\n",
       "      <th>Dades:Train</th>\n",
       "      <th>Dades:Test</th>\n",
       "      <th>Dades:Totes</th>\n",
       "      <th>Model(RM-)</th>\n",
       "    </tr>\n",
       "  </thead>\n",
       "  <tbody>\n",
       "    <tr>\n",
       "      <th>0</th>\n",
       "      <td>RndFor_UnTr</td>\n",
       "      <td>1.355661</td>\n",
       "      <td>1.471704</td>\n",
       "      <td>1.232499</td>\n",
       "      <td>RndFor_UnTr</td>\n",
       "    </tr>\n",
       "    <tr>\n",
       "      <th>1</th>\n",
       "      <td>RndFor_Tr</td>\n",
       "      <td>1.335695</td>\n",
       "      <td>1.430454</td>\n",
       "      <td>1.195981</td>\n",
       "      <td>RndFor_Tr</td>\n",
       "    </tr>\n",
       "    <tr>\n",
       "      <th>2</th>\n",
       "      <td>GrdBoost_UnTr</td>\n",
       "      <td>1.321153</td>\n",
       "      <td>0.629973</td>\n",
       "      <td>1.440862</td>\n",
       "      <td>GrdBoost_UnTr</td>\n",
       "    </tr>\n",
       "    <tr>\n",
       "      <th>3</th>\n",
       "      <td>GrdBoost_Tr</td>\n",
       "      <td>0.609427</td>\n",
       "      <td>0.210626</td>\n",
       "      <td>0.744611</td>\n",
       "      <td>GrdBoost_Tr</td>\n",
       "    </tr>\n",
       "  </tbody>\n",
       "</table>\n",
       "</div>"
      ],
      "text/plain": [
       "           Model  Dades:Train  Dades:Test  Dades:Totes     Model(RM-)\n",
       "0    RndFor_UnTr     1.355661    1.471704     1.232499    RndFor_UnTr\n",
       "1      RndFor_Tr     1.335695    1.430454     1.195981      RndFor_Tr\n",
       "2  GrdBoost_UnTr     1.321153    0.629973     1.440862  GrdBoost_UnTr\n",
       "3    GrdBoost_Tr     0.609427    0.210626     0.744611    GrdBoost_Tr"
      ]
     },
     "execution_count": 46,
     "metadata": {},
     "output_type": "execute_result"
    }
   ],
   "source": [
    "descrip2 = ['RndFor_UnTr(RM-)','RndFor_Tr(RM-)','GrdBoost_UnTr(RM-)','GrdBoost_Tr(RM-)']\n",
    "Resultats['Model(RM-)'] = descrip\n",
    "\n",
    "Resultats"
   ]
  },
  {
   "cell_type": "markdown",
   "id": "22830cf6",
   "metadata": {},
   "source": [
    "> 6 Calculem el RMSE pel models (RM-)"
   ]
  },
  {
   "cell_type": "code",
   "execution_count": 47,
   "id": "a2e85f6b",
   "metadata": {},
   "outputs": [
    {
     "data": {
      "text/html": [
       "<div>\n",
       "<style scoped>\n",
       "    .dataframe tbody tr th:only-of-type {\n",
       "        vertical-align: middle;\n",
       "    }\n",
       "\n",
       "    .dataframe tbody tr th {\n",
       "        vertical-align: top;\n",
       "    }\n",
       "\n",
       "    .dataframe thead th {\n",
       "        text-align: right;\n",
       "    }\n",
       "</style>\n",
       "<table border=\"1\" class=\"dataframe\">\n",
       "  <thead>\n",
       "    <tr style=\"text-align: right;\">\n",
       "      <th></th>\n",
       "      <th>Model</th>\n",
       "      <th>Dades:Train</th>\n",
       "      <th>Dades:Test</th>\n",
       "      <th>Dades:Totes</th>\n",
       "      <th>Model(RM-)</th>\n",
       "      <th>Dades:Train(RM-)</th>\n",
       "    </tr>\n",
       "  </thead>\n",
       "  <tbody>\n",
       "    <tr>\n",
       "      <th>0</th>\n",
       "      <td>RndFor_UnTr</td>\n",
       "      <td>1.355661</td>\n",
       "      <td>1.471704</td>\n",
       "      <td>1.232499</td>\n",
       "      <td>RndFor_UnTr</td>\n",
       "      <td>1.538075</td>\n",
       "    </tr>\n",
       "    <tr>\n",
       "      <th>1</th>\n",
       "      <td>RndFor_Tr</td>\n",
       "      <td>1.335695</td>\n",
       "      <td>1.430454</td>\n",
       "      <td>1.195981</td>\n",
       "      <td>RndFor_Tr</td>\n",
       "      <td>1.520227</td>\n",
       "    </tr>\n",
       "    <tr>\n",
       "      <th>2</th>\n",
       "      <td>GrdBoost_UnTr</td>\n",
       "      <td>1.321153</td>\n",
       "      <td>0.629973</td>\n",
       "      <td>1.440862</td>\n",
       "      <td>GrdBoost_UnTr</td>\n",
       "      <td>1.730610</td>\n",
       "    </tr>\n",
       "    <tr>\n",
       "      <th>3</th>\n",
       "      <td>GrdBoost_Tr</td>\n",
       "      <td>0.609427</td>\n",
       "      <td>0.210626</td>\n",
       "      <td>0.744611</td>\n",
       "      <td>GrdBoost_Tr</td>\n",
       "      <td>2.780373</td>\n",
       "    </tr>\n",
       "  </tbody>\n",
       "</table>\n",
       "</div>"
      ],
      "text/plain": [
       "           Model  Dades:Train  Dades:Test  Dades:Totes     Model(RM-)  \\\n",
       "0    RndFor_UnTr     1.355661    1.471704     1.232499    RndFor_UnTr   \n",
       "1      RndFor_Tr     1.335695    1.430454     1.195981      RndFor_Tr   \n",
       "2  GrdBoost_UnTr     1.321153    0.629973     1.440862  GrdBoost_UnTr   \n",
       "3    GrdBoost_Tr     0.609427    0.210626     0.744611    GrdBoost_Tr   \n",
       "\n",
       "   Dades:Train(RM-)  \n",
       "0          1.538075  \n",
       "1          1.520227  \n",
       "2          1.730610  \n",
       "3          2.780373  "
      ]
     },
     "execution_count": 47,
     "metadata": {},
     "output_type": "execute_result"
    }
   ],
   "source": [
    "valors_X7 =[predictions7_untrained_train,predictions7_trained_train,predictions8_untrained_train,predictions8_trained_train]\n",
    "etiquet_X7 =['predictions7_untrained_train','predictions7_trained_train','predictions8_untrained_train','predictions8_trained_train']\n",
    "llista_resultat =[]\n",
    "contador = 0\n",
    "\n",
    "for calc_RMSE in valors_X7:\n",
    "    rmse_calc = math.sqrt(mean_squared_error(y7_train, calc_RMSE))\n",
    "    llista_resultat.append(rmse_calc)\n",
    "    contador += 1\n",
    "    \n",
    "Resultats['Dades:Train(RM-)'] = llista_resultat\n",
    "Resultats  "
   ]
  },
  {
   "cell_type": "code",
   "execution_count": 48,
   "id": "8ef50aa6",
   "metadata": {},
   "outputs": [
    {
     "data": {
      "text/html": [
       "<div>\n",
       "<style scoped>\n",
       "    .dataframe tbody tr th:only-of-type {\n",
       "        vertical-align: middle;\n",
       "    }\n",
       "\n",
       "    .dataframe tbody tr th {\n",
       "        vertical-align: top;\n",
       "    }\n",
       "\n",
       "    .dataframe thead th {\n",
       "        text-align: right;\n",
       "    }\n",
       "</style>\n",
       "<table border=\"1\" class=\"dataframe\">\n",
       "  <thead>\n",
       "    <tr style=\"text-align: right;\">\n",
       "      <th></th>\n",
       "      <th>Model</th>\n",
       "      <th>Dades:Train</th>\n",
       "      <th>Dades:Test</th>\n",
       "      <th>Dades:Totes</th>\n",
       "      <th>Model(RM-)</th>\n",
       "      <th>Dades:Train(RM-)</th>\n",
       "      <th>Dades:Test(RM-)</th>\n",
       "    </tr>\n",
       "  </thead>\n",
       "  <tbody>\n",
       "    <tr>\n",
       "      <th>0</th>\n",
       "      <td>RndFor_UnTr</td>\n",
       "      <td>1.355661</td>\n",
       "      <td>1.471704</td>\n",
       "      <td>1.232499</td>\n",
       "      <td>RndFor_UnTr</td>\n",
       "      <td>1.538075</td>\n",
       "      <td>1.537848</td>\n",
       "    </tr>\n",
       "    <tr>\n",
       "      <th>1</th>\n",
       "      <td>RndFor_Tr</td>\n",
       "      <td>1.335695</td>\n",
       "      <td>1.430454</td>\n",
       "      <td>1.195981</td>\n",
       "      <td>RndFor_Tr</td>\n",
       "      <td>1.520227</td>\n",
       "      <td>1.656359</td>\n",
       "    </tr>\n",
       "    <tr>\n",
       "      <th>2</th>\n",
       "      <td>GrdBoost_UnTr</td>\n",
       "      <td>1.321153</td>\n",
       "      <td>0.629973</td>\n",
       "      <td>1.440862</td>\n",
       "      <td>GrdBoost_UnTr</td>\n",
       "      <td>1.730610</td>\n",
       "      <td>0.805181</td>\n",
       "    </tr>\n",
       "    <tr>\n",
       "      <th>3</th>\n",
       "      <td>GrdBoost_Tr</td>\n",
       "      <td>0.609427</td>\n",
       "      <td>0.210626</td>\n",
       "      <td>0.744611</td>\n",
       "      <td>GrdBoost_Tr</td>\n",
       "      <td>2.780373</td>\n",
       "      <td>3.404226</td>\n",
       "    </tr>\n",
       "  </tbody>\n",
       "</table>\n",
       "</div>"
      ],
      "text/plain": [
       "           Model  Dades:Train  Dades:Test  Dades:Totes     Model(RM-)  \\\n",
       "0    RndFor_UnTr     1.355661    1.471704     1.232499    RndFor_UnTr   \n",
       "1      RndFor_Tr     1.335695    1.430454     1.195981      RndFor_Tr   \n",
       "2  GrdBoost_UnTr     1.321153    0.629973     1.440862  GrdBoost_UnTr   \n",
       "3    GrdBoost_Tr     0.609427    0.210626     0.744611    GrdBoost_Tr   \n",
       "\n",
       "   Dades:Train(RM-)  Dades:Test(RM-)  \n",
       "0          1.538075         1.537848  \n",
       "1          1.520227         1.656359  \n",
       "2          1.730610         0.805181  \n",
       "3          2.780373         3.404226  "
      ]
     },
     "execution_count": 48,
     "metadata": {},
     "output_type": "execute_result"
    }
   ],
   "source": [
    "valors_X7 =[predictions9_untrained_test,predictions9_trained_test,predictions10_untrained_test,predictions10_trained_test]\n",
    "etiquet_X7 =['predictions9_untrained_test','predictions9_trained_test','predictions10_untrained_test','predictions10_trained_test']\n",
    "llista_resultat =[]\n",
    "contador = 0\n",
    "\n",
    "for calc_RMSE in valors_X7:\n",
    "    rmse_calc = math.sqrt(mean_squared_error(y7_test, calc_RMSE))\n",
    "    llista_resultat.append(rmse_calc)\n",
    "    contador += 1\n",
    "    \n",
    "Resultats['Dades:Test(RM-)'] = llista_resultat\n",
    "Resultats  "
   ]
  },
  {
   "cell_type": "code",
   "execution_count": 49,
   "id": "1d17fb36",
   "metadata": {},
   "outputs": [],
   "source": [
    "valors_X7 =[predictions11_untrained_all,predictions11_trained_all,predictions12_untrained_all,predictions12_trained_all]\n",
    "etiquet_X7 =['predictions11_untrained_all','predictions11_trained_all','predictions12_untrained_all','predictions12_trained_all']\n",
    "llista_resultat =[]\n",
    "contador = 0\n",
    "\n",
    "for calc_RMSE in valors_X7:\n",
    "    rmse_calc = math.sqrt(mean_squared_error(y7, calc_RMSE))\n",
    "    llista_resultat.append(rmse_calc)\n",
    "    contador += 1\n",
    "    \n",
    "Resultats['Dades:Totes(RM-)'] = llista_resultat\n"
   ]
  },
  {
   "cell_type": "markdown",
   "id": "5a940852",
   "metadata": {},
   "source": [
    "> 7 Resultas finals RMSE de tots els models comsiderats"
   ]
  },
  {
   "cell_type": "code",
   "execution_count": 50,
   "id": "8389df59",
   "metadata": {
    "scrolled": true
   },
   "outputs": [
    {
     "data": {
      "text/html": [
       "<div>\n",
       "<style scoped>\n",
       "    .dataframe tbody tr th:only-of-type {\n",
       "        vertical-align: middle;\n",
       "    }\n",
       "\n",
       "    .dataframe tbody tr th {\n",
       "        vertical-align: top;\n",
       "    }\n",
       "\n",
       "    .dataframe thead th {\n",
       "        text-align: right;\n",
       "    }\n",
       "</style>\n",
       "<table border=\"1\" class=\"dataframe\">\n",
       "  <thead>\n",
       "    <tr style=\"text-align: right;\">\n",
       "      <th></th>\n",
       "      <th>Model</th>\n",
       "      <th>Dades:Train</th>\n",
       "      <th>Dades:Test</th>\n",
       "      <th>Dades:Totes</th>\n",
       "      <th>Model(RM-)</th>\n",
       "      <th>Dades:Train(RM-)</th>\n",
       "      <th>Dades:Test(RM-)</th>\n",
       "      <th>Dades:Totes(RM-)</th>\n",
       "    </tr>\n",
       "  </thead>\n",
       "  <tbody>\n",
       "    <tr>\n",
       "      <th>0</th>\n",
       "      <td>RndFor_UnTr</td>\n",
       "      <td>1.355661</td>\n",
       "      <td>1.471704</td>\n",
       "      <td>1.232499</td>\n",
       "      <td>RndFor_UnTr</td>\n",
       "      <td>1.538075</td>\n",
       "      <td>1.537848</td>\n",
       "      <td>1.388806</td>\n",
       "    </tr>\n",
       "    <tr>\n",
       "      <th>1</th>\n",
       "      <td>RndFor_Tr</td>\n",
       "      <td>1.335695</td>\n",
       "      <td>1.430454</td>\n",
       "      <td>1.195981</td>\n",
       "      <td>RndFor_Tr</td>\n",
       "      <td>1.520227</td>\n",
       "      <td>1.656359</td>\n",
       "      <td>1.363161</td>\n",
       "    </tr>\n",
       "    <tr>\n",
       "      <th>2</th>\n",
       "      <td>GrdBoost_UnTr</td>\n",
       "      <td>1.321153</td>\n",
       "      <td>0.629973</td>\n",
       "      <td>1.440862</td>\n",
       "      <td>GrdBoost_UnTr</td>\n",
       "      <td>1.730610</td>\n",
       "      <td>0.805181</td>\n",
       "      <td>1.918653</td>\n",
       "    </tr>\n",
       "    <tr>\n",
       "      <th>3</th>\n",
       "      <td>GrdBoost_Tr</td>\n",
       "      <td>0.609427</td>\n",
       "      <td>0.210626</td>\n",
       "      <td>0.744611</td>\n",
       "      <td>GrdBoost_Tr</td>\n",
       "      <td>2.780373</td>\n",
       "      <td>3.404226</td>\n",
       "      <td>2.756963</td>\n",
       "    </tr>\n",
       "  </tbody>\n",
       "</table>\n",
       "</div>"
      ],
      "text/plain": [
       "           Model  Dades:Train  Dades:Test  Dades:Totes     Model(RM-)  \\\n",
       "0    RndFor_UnTr     1.355661    1.471704     1.232499    RndFor_UnTr   \n",
       "1      RndFor_Tr     1.335695    1.430454     1.195981      RndFor_Tr   \n",
       "2  GrdBoost_UnTr     1.321153    0.629973     1.440862  GrdBoost_UnTr   \n",
       "3    GrdBoost_Tr     0.609427    0.210626     0.744611    GrdBoost_Tr   \n",
       "\n",
       "   Dades:Train(RM-)  Dades:Test(RM-)  Dades:Totes(RM-)  \n",
       "0          1.538075         1.537848          1.388806  \n",
       "1          1.520227         1.656359          1.363161  \n",
       "2          1.730610         0.805181          1.918653  \n",
       "3          2.780373         3.404226          2.756963  "
      ]
     },
     "execution_count": 50,
     "metadata": {},
     "output_type": "execute_result"
    }
   ],
   "source": [
    "Resultats"
   ]
  },
  {
   "cell_type": "markdown",
   "id": "602e83a1",
   "metadata": {},
   "source": [
    "> 8 Gràfiques comparatives entre el models amb RM i els (RM-)"
   ]
  },
  {
   "cell_type": "code",
   "execution_count": 51,
   "id": "015c7158",
   "metadata": {
    "scrolled": true
   },
   "outputs": [
    {
     "data": {
      "image/png": "[encoded data removed]",
      "text/plain": [
       "<Figure size 1080x720 with 4 Axes>"
      ]
     },
     "metadata": {
      "needs_background": "light"
     },
     "output_type": "display_data"
    }
   ],
   "source": [
    "# i les representem gràficament\n",
    "\n",
    "plt.figure(figsize=(15,10))\n",
    "plt.subplots_adjust(left=None, bottom=None, right=None, top=None, wspace=None, hspace=.2)\n",
    "\n",
    "plt.subplot(2,2,1)\n",
    "plt.scatter(y4_train, predictions5_untrained, c= 'red', s=5)\n",
    "plt.scatter(y4_train, predictions5_trained, c= 'black', s=5)\n",
    "plt.title('Random Forest')\n",
    "plt.xlabel(\"\")\n",
    "plt.ylabel(\"Valors predits\")\n",
    "plt.legend(('No entrenat', 'Entrenat'), loc='upper left', ncol=1, fontsize=10)\n",
    "\n",
    "plt.subplot(2,2,2)\n",
    "plt.scatter(y4_train, predictions6_untrained, c= 'red', s=5)\n",
    "plt.scatter(y4_train, predictions6_trained, c= 'black', s=5)\n",
    "plt.title('Gradient Boosting')\n",
    "plt.xlabel(\"\")\n",
    "plt.ylabel(\"\")\n",
    "plt.legend(('No entrenat', 'Entrenat'), loc='upper left', ncol=1, fontsize=10)\n",
    "\n",
    "\n",
    "plt.subplot(2,2,3)\n",
    "plt.scatter(y7_train, predictions7_untrained_train, c= 'red', s=5)\n",
    "plt.scatter(y7_train, predictions7_trained_train, c= 'black', s=5)\n",
    "plt.title('Random Forest (RM-)')\n",
    "plt.xlabel(\"Valors reals\")\n",
    "plt.ylabel(\"Valors predits\")\n",
    "plt.legend(('No entrenat', 'Entrenat'), loc='upper left', ncol=1, fontsize=10)\n",
    "\n",
    "plt.subplot(2,2,4)\n",
    "plt.scatter(y7_train, predictions8_untrained_train, c= 'red', s=5)\n",
    "plt.scatter(y7_train, predictions8_trained_train, c= 'black', s=5)\n",
    "plt.title('Gradient Boosting (RM-)')\n",
    "plt.xlabel(\"Valors reals\")\n",
    "plt.ylabel(\"\")\n",
    "plt.legend(('No entrenat', 'Entrenat'), loc='upper left', ncol=1, fontsize=10)\n",
    "\n",
    "plt.show();\n"
   ]
  },
  {
   "cell_type": "code",
   "execution_count": null,
   "id": "d1bbc055",
   "metadata": {},
   "outputs": [],
   "source": []
  },
  {
   "cell_type": "code",
   "execution_count": null,
   "id": "26bd2aa1",
   "metadata": {},
   "outputs": [],
   "source": []
  }
 ],
 "metadata": {
  "kernelspec": {
   "display_name": "Python 3 (ipykernel)",
   "language": "python",
   "name": "python3"
  },
  "language_info": {
   "codemirror_mode": {
    "name": "ipython",
    "version": 3
   },
   "file_extension": ".py",
   "mimetype": "text/x-python",
   "name": "python",
   "nbconvert_exporter": "python",
   "pygments_lexer": "ipython3",
   "version": "3.9.7"
  }
 },
 "nbformat": 4,
 "nbformat_minor": 5
}
